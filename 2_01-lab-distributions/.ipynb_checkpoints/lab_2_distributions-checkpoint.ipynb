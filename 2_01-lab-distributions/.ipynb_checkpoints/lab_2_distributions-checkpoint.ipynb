{
 "cells": [
  {
   "cell_type": "markdown",
   "metadata": {},
   "source": [
    "# \"Fun with Loot Boxes\" Lab\n",
    "\n",
    "> Author: Caroline Schmitt, Matt Brems\n",
    "\n",
    "### Scenario:\n",
    "\n",
    "You're an analyst for [Zynga](https://en.wikipedia.org/wiki/Zynga), a gaming studio working on an event for an MMO (massively multiplayer online) game. This event is going to include **loot boxes**.\n",
    "\n",
    "<img src=\"https://vignette.wikia.nocookie.net/2007scape/images/0/06/Culinaromancer%27s_chest.png/revision/latest?cb=20180403231423\" alt=\"drawing\" width=\"150\"/> \n",
    "\n",
    "A loot box is basically a treasure chest in a game. This loot box can be opened to reveal a variety of items: some items are very rare and valuable, other items are common and less valuable. (You may consult [the esteemed Wikipedia](https://en.wikipedia.org/wiki/Loot_box) for a more extensive definition.)\n",
    "\n",
    "In our specific game, suppose that loot boxes can be obtained in one of two ways: \n",
    "- After every three hours of playing the game, a user will earn one loot box.\n",
    "- If the user wishes to purchase a loot box, they may pay $1 (in real money!) for a loot box.\n",
    "\n",
    "These loot boxes are very good for our business!\n",
    "- If a player earns a loot box, it means they are spending lots of time on the game. This often leads to advertisement revenue, they may tell their friends to join the game, etc.\n",
    "- If the player purchases a loot box, it means we've earned $1 from our customer.\n",
    "\n",
    "Suppose each loot box is opened to reveal either:\n",
    "- magical elixir (super rare, very valuable), or\n",
    "- nothing.\n",
    "\n",
    "Whether each loot box contains the elixir or nothing is **random**. Our boss wants some guidance on what sort of randomness to use on these loot boxes! \n",
    "- If the magical elixir is too rare, then users may not be motivated to try to get them, because they believe they'll never find the magical elixir.\n",
    "- If the magical elixir is too common, then users may not be motivated to try to get them, because the game has so much of the magical elixir that it isn't worthwhile to try to get it.\n",
    "\n",
    "However, our boss isn't a math-y type person! When explaining things to our boss, we need to explain the impact of our choices on the game as concretely as possible.\n",
    "\n",
    "### Version 1\n",
    "In our first version of the game, we'll say that loot boxes contain magical elixir 15% of the time and nothing 85% of the time.\n",
    "\n",
    "#### 1. Our boss asks, \"If a user buys 100 loot boxes, how many elixirs will they get?\" How would you respond?"
   ]
  },
  {
   "cell_type": "markdown",
   "metadata": {},
   "source": [
    "Based on the estimated probability (p = 15 / 100), we would assume that a user will get an elixir in 15 out of 100 boxes. However, due to random chance, they may get an elixir in all 100 boxes or no elixirs at all from 100 boxes or something in between."
   ]
  },
  {
   "cell_type": "markdown",
   "metadata": {},
   "source": [
    "#### 2. Our boss asks, \"How many loot boxes does someone have to purchase in order to definitely get elixir?\" How would you respond?"
   ]
  },
  {
   "cell_type": "markdown",
   "metadata": {},
   "source": [
    "As our boss has requested a specific number of loot boxes (for a definite goal - i.e. get the elixir), we need a guaranteed outcome. However, as there is always a chance (random or fair), that the loot box will be empty, we cannot estimate such a specific number. "
   ]
  },
  {
   "cell_type": "markdown",
   "metadata": {},
   "source": [
    "#### 3. Our boss asks, \"If a user earns 100 loot boxes, what is the chance that a user gets more than 20 elixirs?\" This is a bit more complicated, so let's break it down before answering."
   ]
  },
  {
   "cell_type": "markdown",
   "metadata": {},
   "source": [
    "#### 3a. Let's suppose my random variable $X$ counts up how many elixirs I observe out of my 100 loot boxes. Why is $X$ a discrete random variable?"
   ]
  },
  {
   "cell_type": "markdown",
   "metadata": {},
   "source": [
    "$X$ is a discrete random variable as it has a fixed or known value, and that value will be the number of elixirs obtained from opening the 100 loot boxes. The value of $X$ will range from 0 to 100 - but we will be able to count and enumerate the result discretely. Hence $X$ is a discrete random variable."
   ]
  },
  {
   "cell_type": "markdown",
   "metadata": {},
   "source": [
    "#### 3b. Recall our discrete distributions: discrete uniform, Bernoulli, binomial, Poisson. Let's suppose my random variable $X$ counts up how many elixirs I observe out of my 100 loot boxes. What distribution is best suited for $X$? Why?\n",
    "- Hint: It may help to consider getting the magical elixir a \"success\" and getting nothing a \"failure.\" "
   ]
  },
  {
   "cell_type": "markdown",
   "metadata": {},
   "source": [
    "**Discrete uniform distribution**\n",
    "\n",
    "NOT SUITED for $X$ - the probability of a success (getting the magical elixir) is not the same or similar as a failure (getting nothing). Discrete uniform distribution relies on the concept of 'fairness' - every outcome possible has an equal chance of being achieved for each turn or trial\n",
    "\n",
    "**Bernoulli distribution**\n",
    "\n",
    "NOT SUITED for $X$ - there are 100 boxes to be opened, i.e. 100 tries. Bernoulli's is relevant only if out of 100 boxes, only one were to be opened.\n",
    "\n",
    "**Binomial distribution**\n",
    "\n",
    "WELL SUITED for $X$ - Binomial distributions are typically applied for a fixed number of trials / tests with 2 discrete and known outcomes. In this case, the number of trials is $n=100$ and the outcomes are success or failure.\n",
    "\n",
    "**Poisson distribution**\n",
    "\n",
    "NOT SUITED for $X$ - Poisson's distribution is best applied for situations involving time or a frequency / rate of occurrence. For the loot boxes, there are no such variables or conditions specified - hence Poisson's doesn't apply."
   ]
  },
  {
   "cell_type": "markdown",
   "metadata": {},
   "source": [
    "#### 3c. Our boss asks, \"If a user earns 100 loot boxes, what is the chance that a user gets more than 20 elixirs?\" Use the probability mass function to answer the boss' question."
   ]
  },
  {
   "cell_type": "markdown",
   "metadata": {},
   "source": [
    "The probability / chance here to be calculated is based on this phrase \"more than 20\" - which means it can be 21 and above, right upto 100 elixirs."
   ]
  },
  {
   "cell_type": "code",
   "execution_count": 1,
   "metadata": {},
   "outputs": [],
   "source": [
    "import scipy.stats as stats\n",
    "\n",
    "n = 100 #number of loot boxes\n",
    "p = 0.15 #probability of getting an elixir"
   ]
  },
  {
   "cell_type": "code",
   "execution_count": 7,
   "metadata": {},
   "outputs": [
    {
     "name": "stdout",
     "output_type": "stream",
     "text": [
      "The probability that a user gets more than 20 elixirs after opening 100 boxes is 6.631976581888137%\n"
     ]
    }
   ],
   "source": [
    "morethan20_pmf = sum(map(lambda x: stats.binom.pmf(x, n, p), range(21, 101)))\n",
    "print(f\"The probability that a user gets more than 20 elixirs after opening 100 boxes is {morethan20_p*100}%\")"
   ]
  },
  {
   "cell_type": "markdown",
   "metadata": {},
   "source": [
    "#### 3d. Our boss asks, \"If a user earns 100 loot boxes, what is the chance that a user gets more than 20 elixirs?\" Use the cumulative distribution function to answer the boss' question."
   ]
  },
  {
   "cell_type": "markdown",
   "metadata": {},
   "source": [
    "Cumulative distribution function (cdf) calculates the probability of attaining upto a target value e.g. upto 20 successes (getting an elixir).\n",
    "To calculate chance of getting more than 20, we'll calculate the probability of 20 or less, and then subtract the value from 1 i.e. 100%"
   ]
  },
  {
   "cell_type": "code",
   "execution_count": 10,
   "metadata": {},
   "outputs": [
    {
     "data": {
      "text/plain": [
       "0.9336802341811185"
      ]
     },
     "execution_count": 10,
     "metadata": {},
     "output_type": "execute_result"
    }
   ],
   "source": [
    "lessthan20_cdf = stats.binom.cdf(20, n, p)\n",
    "lessthan20_cdf"
   ]
  },
  {
   "cell_type": "code",
   "execution_count": 11,
   "metadata": {},
   "outputs": [
    {
     "name": "stdout",
     "output_type": "stream",
     "text": [
      "The probability that a user gets more than 20 elixirs after opening 100 boxes is 6.631976581888155%\n"
     ]
    }
   ],
   "source": [
    "morethan20_cdf = 1 - lessthan20_cdf\n",
    "print(f\"The probability that a user gets more than 20 elixirs after opening 100 boxes is {morethan20_cdf*100}%\")"
   ]
  },
  {
   "cell_type": "markdown",
   "metadata": {},
   "source": [
    "#### 3e. Our boss asks, \"If a user earns 100 loot boxes, what is the chance that a user gets more than 20 elixirs?\" Answer your boss' question. *Remember that your boss is not a math-y person!*"
   ]
  },
  {
   "cell_type": "markdown",
   "metadata": {},
   "source": [
    "If a user earns or buys 100 loot boxes, there's a 6.632% chance that they will get more than 20 elixirs on opening said boxes."
   ]
  },
  {
   "cell_type": "markdown",
   "metadata": {},
   "source": [
    "#### 4. Your boss wants to know how many people purchased how many loot boxes last month. \n",
    "> For example, last month, 70% of users did not purchase any loot boxes. 10% of people purchased one loot box. 5% of people purchased two loot boxes... and so on.\n",
    "\n",
    "#### 4a. Recall our discrete distributions: discrete uniform, Bernoulli, binomial, Poisson. Let's suppose my random variable $Y$ counts up how many loot boxes each person purchased through the game last month. What distribution is best suited for $Y$? Why?"
   ]
  },
  {
   "cell_type": "markdown",
   "metadata": {},
   "source": [
    "**Poisson distribution**\n",
    "\n",
    "As the question (how many loot boxes were purchased) is based on a specific timeframe (last month / 1 month), Poisson distribution would apply in this scenario."
   ]
  },
  {
   "cell_type": "markdown",
   "metadata": {},
   "source": [
    "#### 4b. Suppose that, on average, your customers purchased 2.7 loot boxes last month. In order for your revenue to be at least $500,000, at least how many users would you need on your platform? (Round your answer up to the nearest thousand.) "
   ]
  },
  {
   "cell_type": "code",
   "execution_count": 17,
   "metadata": {},
   "outputs": [
    {
     "name": "stdout",
     "output_type": "stream",
     "text": [
      "185185.18518518517\n"
     ]
    }
   ],
   "source": [
    "cost_per_lootbox = 1.0 # each loot box costs $1\n",
    "rpu = 2.7 * cost_per_lootbox  # each user buys 2.7 loot boxes on average at $1 each\n",
    "\n",
    "revenue_goal = 500000\n",
    "\n",
    "\n",
    "min_users = revenue_goal / rpu\n",
    "print(min_users)"
   ]
  },
  {
   "cell_type": "code",
   "execution_count": 18,
   "metadata": {},
   "outputs": [
    {
     "name": "stdout",
     "output_type": "stream",
     "text": [
      "To get $500,000 in total revenue, we need at least 186000\n"
     ]
    }
   ],
   "source": [
    "# to round UP to the nearest thousand, we use math.ceil instead of round()\n",
    "import math\n",
    "\n",
    "min_users_rounded = math.ceil(min_users / 1000) * 1000 # divide by 1000, round up and then multiply back by 1000\n",
    "\n",
    "print(f\"To get $500,000 in total revenue, we need at least {min_users_rounded}\")"
   ]
  },
  {
   "cell_type": "markdown",
   "metadata": {},
   "source": [
    "#### 4c. Assume that your platform has the number of users you mentioned in your last answer. Suppose that your platform calls anyone who purchases 5 or more loot boxes in a month a \"high value user.\" How much money do you expect to have earned from \"high value users?\" How about \"low value users?\""
   ]
  },
  {
   "cell_type": "markdown",
   "metadata": {},
   "source": [
    "From the question, we have 2 distinct groups - high value users who buy 5 or more loot boxes every month, and low value users who buy less than 5 (including users who do not buy any loot boxes at all).\n",
    "\n",
    "We know the total number of users as 186,000 and the average number of loot boxes purchased per user as 2.7 i.e. mean = $\\mu$ = $\\lambda$ = 2.7"
   ]
  },
  {
   "cell_type": "code",
   "execution_count": 34,
   "metadata": {},
   "outputs": [
    {
     "name": "stdout",
     "output_type": "stream",
     "text": [
      "Low value users, numbering about 148001, spent $358618 to buy loot boxes last month\n",
      "High value users spent $143582 to buy 5 or more loot boxes last month\n"
     ]
    }
   ],
   "source": [
    "revenue = 0\n",
    "total_lv_users = 0 #variable to count all low-value users\n",
    "total_users = 186000\n",
    "mu = 2.7\n",
    "\n",
    "# First estimate number of users who may not buy any loot boxes at all\n",
    "no_loot_boxers = round(total_users * stats.poisson(mu).pmf(0))\n",
    "#no_loot_boxers = 12500\n",
    "\n",
    "# Next, calculate number of users who will buy between 1 and 4 loot boxes\n",
    "for lootbox_count in range(1,5):\n",
    "    low_value_users = round(total_users * stats.poisson(mu).pmf(lootbox_count))\n",
    "    revenue += lootbox_count * low_value_users\n",
    "    total_lv_users += low_value_users\n",
    "\n",
    "print(f\"Low value users, numbering about {total_lv_users}, spent ${revenue} to buy loot boxes last month\")\n",
    "\n",
    "# Finally subtract the low-value users' revenue from the total users' revenue\n",
    "high_value_revenue = round((total_users * mu) - revenue)\n",
    "print(f\"High value users spent ${high_value_revenue} to buy 5 or more loot boxes last month\")"
   ]
  },
  {
   "cell_type": "markdown",
   "metadata": {},
   "source": [
    "#### 4d. Suppose that you want to summarize how many people purchased how many loot boxes last month for your boss. Since your boss isn't math-y, what are 2-4 summary numbers you might use to summarize this for your boss? (Your answers will vary here - use your judgment!)"
   ]
  },
  {
   "cell_type": "markdown",
   "metadata": {},
   "source": [
    "From our estimate and calculations above, we can say the following:\n",
    "- from our player base of 186K last month, over 93% spent a dollar or more on loot boxes last month (based on estimated number of number of no_loot_boxers)\n",
    "- of these, the majority of the players (148K) spent between \\\\$1 and \\\\$4 - we are calling them low-value players, for a total revenue of \\\\$358K\n",
    "- finally, our high value players spent over \\\\$143K to buy 5 or more loot boxes - that gives us an average RPU of $5.63 from this group (calculated from high_value_revenue divided by high value users count)"
   ]
  },
  {
   "cell_type": "markdown",
   "metadata": {},
   "source": [
    "#### 5. Your boss asks \"How many loot boxes does it take before someone gets their first elixir?\" Using `np.random.choice`, simulate how many loot boxes it takes somone to get their first elixir. \n",
    "- Start an empty list.\n",
    "- Use control flow to have someone open loot boxes repeatedly.\n",
    "- Once they open a loot box containing an elixir, record the number of loot boxes it took in the empty list.\n",
    "- Repeat this process 100,000 times. \n",
    "\n",
    "This simulates how long it takes for someone to open a loot box containing elixir. Share the 5th, 25th, 50th, 75th, and 95th percentiles.\n",
    "\n",
    "> You may find [this documentation](https://docs.scipy.org/doc/numpy/reference/generated/numpy.random.choice.html)  and [this documentation](https://docs.scipy.org/doc/numpy/reference/generated/numpy.percentile.html) helpful."
   ]
  },
  {
   "cell_type": "code",
   "execution_count": 35,
   "metadata": {},
   "outputs": [],
   "source": [
    "import numpy as np\n",
    "\n",
    "np.random.seed(42) # setting the randomness to be repeatable, 42 being the answer to everything in life\n",
    "\n",
    "number_of_tries = []\n",
    "found_elixir = [\"yes\", \"no\"] # for getting an elixir and nothing respectively\n",
    "\n",
    "# run \"unboxing\" test for 100000 times\n",
    "for test_count in range(100000):\n",
    "    turn = 0\n",
    "    \n",
    "    while True:\n",
    "        unboxed_chest = np.random.choice(found_elixir, \n",
    "                                         p=[0.15, 0.85]) # the probabilities associated with yes and no\n",
    "        turn += 1\n",
    "        \n",
    "        if unboxed_chest == \"yes\":\n",
    "            number_of_tries.append(turn)\n",
    "            break    "
   ]
  },
  {
   "cell_type": "code",
   "execution_count": 38,
   "metadata": {},
   "outputs": [
    {
     "name": "stdout",
     "output_type": "stream",
     "text": [
      "5th percentile = 1.0 tries\n",
      "25th percentile = 2.0 tries\n",
      "50th percentile = 5.0 tries\n",
      "75th percentile = 9.0 tries\n",
      "95th percentile = 19.0 tries\n"
     ]
    }
   ],
   "source": [
    "#number_of_tries\n",
    "print(f\"5th percentile = {np.percentile(number_of_tries, 5)} tries\")\n",
    "print(f\"25th percentile = {np.percentile(number_of_tries, 25)} tries\")\n",
    "print(f\"50th percentile = {np.percentile(number_of_tries, 50)} tries\")\n",
    "print(f\"75th percentile = {np.percentile(number_of_tries, 75)} tries\")\n",
    "print(f\"95th percentile = {np.percentile(number_of_tries, 95)} tries\")"
   ]
  },
  {
   "cell_type": "markdown",
   "metadata": {},
   "source": [
    "### Version 2\n",
    "\n",
    "After a substantial update to the game, suppose every loot box can be opened to reveal *one of four different* items:\n",
    "- magical elixir (occurs 1% of the time, most valuable)\n",
    "- golden pendant (occurs 9% of the time, valuable)\n",
    "- steel armor (occurs 30% of the time, semi-valuable)\n",
    "- bronze coin (occurs 60% of the time, least valuable)"
   ]
  },
  {
   "cell_type": "markdown",
   "metadata": {},
   "source": [
    "#### 6. Suppose you want repeat problem 5 above, but do that for the version 2 loot boxes so you can track how many loot boxes are needed to get each item? (e.g. You'd like to be able to say that on average it takes 10 trials to get a golden pendant, 3 trials to get steel armor, and so on.) What Python datatype is the best way to store this data? Why?"
   ]
  },
  {
   "cell_type": "markdown",
   "metadata": {},
   "source": [
    "A dictionary is best suited to store such data - as we can define set the dictionary keys to be the loot box items, and then set the values (in a list) to be the number of turns taken to obtain each item.\n",
    "\n",
    "This will also make it easier to retrieve and reference later if we need to do so."
   ]
  },
  {
   "cell_type": "markdown",
   "metadata": {},
   "source": [
    "#### 7. Suppose you and your boss want to measure whether \"Version 2\" is better than \"Version 1.\" What metrics do you think are important to measure? (Your answers will vary here - use your judgment!)"
   ]
  },
  {
   "cell_type": "markdown",
   "metadata": {},
   "source": [
    "As it's not known if the value / cost of a lootbox has changed, we'll assume that it's still priced at //$1 in version 2.\n",
    "To check if version 2 is better than version 1, we can\n",
    "- Measure if the average revenue per user and the average revenue per paying user (subtract the non-paying users) has increased\n",
    "- Measure and verify if any 'low-value' users have converted to 'high-value' users and vice versa\n",
    "- Has the overall revenue increased (related to ARPU and ARPPU) above"
   ]
  }
 ],
 "metadata": {
  "kernelspec": {
   "display_name": "Python 3 (ipykernel)",
   "language": "python",
   "name": "python3"
  },
  "language_info": {
   "codemirror_mode": {
    "name": "ipython",
    "version": 3
   },
   "file_extension": ".py",
   "mimetype": "text/x-python",
   "name": "python",
   "nbconvert_exporter": "python",
   "pygments_lexer": "ipython3",
   "version": "3.9.18"
  }
 },
 "nbformat": 4,
 "nbformat_minor": 2
}
