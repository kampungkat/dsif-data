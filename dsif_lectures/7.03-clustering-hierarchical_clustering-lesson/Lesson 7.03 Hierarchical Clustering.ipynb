{
 "cells": [
  {
   "cell_type": "markdown",
   "id": "df4fe671",
   "metadata": {},
   "source": [
    "# Lesson 7.03 Hierarchical Clustering\n",
    "\n",
    "## Recap: K-Means\n",
    "Here’s a brief overview of how K-means works:\n",
    "\n",
    "1. Decide the number of clusters (k)\n",
    "2. Select k random points from the data as centroids\n",
    "3. Assign all the points to the nearest cluster centroid\n",
    "4. Calculate the centroid of newly formed clusters\n",
    "5. Repeat steps 3 and 4\n",
    "\n",
    "It is an iterative process. It will keep on running until the centroids of newly formed clusters do not change or the maximum number of iterations are reached.\n",
    "\n",
    "## Why Hierarchical Clustering?\n",
    "\n",
    "Based on the above, there are certain challenges with K-means. It always tries to make clusters of the same size. Also, we have to decide the number of clusters at the beginning of the algorithm. Ideally, we would not know how many clusters should we have, in the beginning of the algorithm and hence it a challenge with K-means.\n",
    "\n",
    "This is a gap hierarchical clustering bridges effectively. It takes away the problem of having to pre-define the number of clusters.\n",
    "\n",
    "## What is Hierarchical Clustering?\n",
    "- We assign each point to an individual cluster in this technique. Suppose there are 4 data points. We will assign each of these points to a cluster and hence will have 4 clusters in the beginning:\n",
    "\n",
    "- Then, at each iteration, we merge the closest pair of clusters and repeat this step until only a single cluster is left:\n",
    "\n",
    "- We are merging (or adding) the clusters at each step, right? Hence, this type of clustering is also known as additive hierarchical clustering.\n",
    "\n",
    "\n",
    "## Setting up for hierarchical clustering analysis\n",
    "\n",
    "### Import Libraries"
   ]
  },
  {
   "cell_type": "code",
   "execution_count": 1,
   "id": "f600fb82",
   "metadata": {},
   "outputs": [
    {
     "name": "stderr",
     "output_type": "stream",
     "text": [
      "C:\\Users\\User\\anaconda3\\lib\\site-packages\\numpy\\_distributor_init.py:30: UserWarning: loaded more than 1 DLL from .libs:\n",
      "C:\\Users\\User\\anaconda3\\lib\\site-packages\\numpy\\.libs\\libopenblas.FB5AE2TYXYH2IJRDKGDGQ3XBKLKTF43H.gfortran-win_amd64.dll\n",
      "C:\\Users\\User\\anaconda3\\lib\\site-packages\\numpy\\.libs\\libopenblas.GK7GX5KEQ4F6UYO3P26ULGBQYHGQO7J4.gfortran-win_amd64.dll\n",
      "C:\\Users\\User\\anaconda3\\lib\\site-packages\\numpy\\.libs\\libopenblas64__v0.3.21-gcc_10_3_0.dll\n",
      "  warnings.warn(\"loaded more than 1 DLL from .libs:\"\n"
     ]
    }
   ],
   "source": [
    "import numpy as np\n",
    "import pandas as pd\n",
    "\n",
    "import matplotlib.pyplot as plt\n",
    "from pylab import rcParams\n",
    "import seaborn as sb\n",
    "\n",
    "from sklearn.metrics import silhouette_score"
   ]
  },
  {
   "cell_type": "code",
   "execution_count": 2,
   "id": "b013fd31",
   "metadata": {},
   "outputs": [],
   "source": [
    "from sklearn.cluster import AgglomerativeClustering\n",
    "\n",
    "import scipy\n",
    "from scipy.cluster.hierarchy import dendrogram, linkage\n",
    "from scipy.cluster.hierarchy import fcluster\n",
    "from scipy.cluster.hierarchy import cophenet\n",
    "from scipy.spatial.distance import pdist"
   ]
  },
  {
   "cell_type": "code",
   "execution_count": 3,
   "id": "98703c4a",
   "metadata": {},
   "outputs": [
    {
     "data": {
      "text/plain": [
       "<Figure size 720x216 with 0 Axes>"
      ]
     },
     "metadata": {},
     "output_type": "display_data"
    }
   ],
   "source": [
    "np.set_printoptions(precision=4, suppress=True)\n",
    "plt.figure(figsize=(10, 3))\n",
    "plt.style.use('seaborn-whitegrid')"
   ]
  },
  {
   "cell_type": "markdown",
   "id": "06e4a11e",
   "metadata": {},
   "source": [
    "### Load Data"
   ]
  },
  {
   "cell_type": "code",
   "execution_count": 4,
   "id": "e2bf0b8f",
   "metadata": {},
   "outputs": [
    {
     "data": {
      "text/html": [
       "<div>\n",
       "<style scoped>\n",
       "    .dataframe tbody tr th:only-of-type {\n",
       "        vertical-align: middle;\n",
       "    }\n",
       "\n",
       "    .dataframe tbody tr th {\n",
       "        vertical-align: top;\n",
       "    }\n",
       "\n",
       "    .dataframe thead th {\n",
       "        text-align: right;\n",
       "    }\n",
       "</style>\n",
       "<table border=\"1\" class=\"dataframe\">\n",
       "  <thead>\n",
       "    <tr style=\"text-align: right;\">\n",
       "      <th></th>\n",
       "      <th>Sepal Length</th>\n",
       "      <th>Sepal Width</th>\n",
       "      <th>Petal Length</th>\n",
       "      <th>Petal Width</th>\n",
       "      <th>Species</th>\n",
       "    </tr>\n",
       "  </thead>\n",
       "  <tbody>\n",
       "    <tr>\n",
       "      <th>0</th>\n",
       "      <td>5.1</td>\n",
       "      <td>3.5</td>\n",
       "      <td>1.4</td>\n",
       "      <td>0.2</td>\n",
       "      <td>setosa</td>\n",
       "    </tr>\n",
       "    <tr>\n",
       "      <th>1</th>\n",
       "      <td>4.9</td>\n",
       "      <td>3.0</td>\n",
       "      <td>1.4</td>\n",
       "      <td>0.2</td>\n",
       "      <td>setosa</td>\n",
       "    </tr>\n",
       "    <tr>\n",
       "      <th>2</th>\n",
       "      <td>4.7</td>\n",
       "      <td>3.2</td>\n",
       "      <td>1.3</td>\n",
       "      <td>0.2</td>\n",
       "      <td>setosa</td>\n",
       "    </tr>\n",
       "    <tr>\n",
       "      <th>3</th>\n",
       "      <td>4.6</td>\n",
       "      <td>3.1</td>\n",
       "      <td>1.5</td>\n",
       "      <td>0.2</td>\n",
       "      <td>setosa</td>\n",
       "    </tr>\n",
       "    <tr>\n",
       "      <th>4</th>\n",
       "      <td>5.0</td>\n",
       "      <td>3.6</td>\n",
       "      <td>1.4</td>\n",
       "      <td>0.2</td>\n",
       "      <td>setosa</td>\n",
       "    </tr>\n",
       "  </tbody>\n",
       "</table>\n",
       "</div>"
      ],
      "text/plain": [
       "   Sepal Length  Sepal Width  Petal Length  Petal Width Species\n",
       "0           5.1          3.5           1.4          0.2  setosa\n",
       "1           4.9          3.0           1.4          0.2  setosa\n",
       "2           4.7          3.2           1.3          0.2  setosa\n",
       "3           4.6          3.1           1.5          0.2  setosa\n",
       "4           5.0          3.6           1.4          0.2  setosa"
      ]
     },
     "execution_count": 4,
     "metadata": {},
     "output_type": "execute_result"
    }
   ],
   "source": [
    "df = pd.read_csv('data/iris.data.csv', header=None, sep=',')\n",
    "df.columns=['Sepal Length','Sepal Width','Petal Length','Petal Width', 'Species']\n",
    "\n",
    "# Set X\n",
    "X = df[['Sepal Length','Sepal Width','Petal Length','Petal Width']]\n",
    "\n",
    "# Set y by converting the class labels to numeric labels e.g. 0,1,2\n",
    "\n",
    "# Set y\n",
    "y = df['Species']\n",
    "\n",
    "# display first 5 rows of data frame\n",
    "df.head()"
   ]
  },
  {
   "cell_type": "markdown",
   "id": "1e1a7bf3",
   "metadata": {
    "collapsed": true
   },
   "source": [
    "### Using `scipy` to generate dendrograms"
   ]
  },
  {
   "cell_type": "code",
   "execution_count": 5,
   "id": "dae1434c",
   "metadata": {},
   "outputs": [],
   "source": [
    "# call linkage function on X-values\n",
    "# linkage function executes hierarchical clustering on specified data\n",
    "# ward takes the sum of squares of dist btw each pair of points divided by total sum of similarities btw 2 clusters\n",
    "# Z is the clustering result that has been generated from scipy's hierarchical clustering library\n",
    "\n",
    "# Here, \"X\" represents the matrix of data that we are clustering, and \"ward\" tells our\n",
    "# algorithm which method to use to calculate distance between our newly formed\n",
    "# clusters - in this case Ward's Method which seeks to minimize the variance when\n",
    "# forming clusters. When calculating distance, the default is Euclidean distance\n",
    "Z = linkage(X, 'ward')"
   ]
  },
  {
   "cell_type": "code",
   "execution_count": 6,
   "id": "d004b085",
   "metadata": {},
   "outputs": [
    {
     "data": {
      "image/png": "[encoded data removed]",
      "text/plain": [
       "<Figure size 432x288 with 1 Axes>"
      ]
     },
     "metadata": {},
     "output_type": "display_data"
    }
   ],
   "source": [
    "# create dendogram using clustering results, Z from above\n",
    "dendrogram(Z, truncate_mode='lastp', p=12, leaf_rotation=45., leaf_font_size=15, show_contracted=True)\n",
    "\n",
    "plt.title('Truncated Hierarchial Clustering Diagram')\n",
    "plt.xlabel('Cluster Size')\n",
    "plt.ylabel('Distance')\n",
    "\n",
    "# create horizontal lines on the plot\n",
    "plt.axhline(y=500)\n",
    "plt.axhline(y=150)\n",
    "\n",
    "# display dendogram\n",
    "plt.show()"
   ]
  },
  {
   "cell_type": "markdown",
   "id": "f9efd37f",
   "metadata": {},
   "source": [
    "### Generating hierarchical clusters"
   ]
  },
  {
   "cell_type": "code",
   "execution_count": 7,
   "id": "e46d81d0",
   "metadata": {},
   "outputs": [
    {
     "data": {
      "text/plain": [
       "array([1, 1, 1, 1, 1, 1, 1, 1, 1, 1, 1, 1, 1, 1, 1, 1, 1, 1, 1, 1, 1, 1,\n",
       "       1, 1, 1, 1, 1, 1, 1, 1, 1, 1, 1, 1, 1, 1, 1, 1, 1, 1, 1, 1, 1, 1,\n",
       "       1, 1, 1, 1, 1, 1, 0, 0, 0, 0, 0, 0, 0, 0, 0, 0, 0, 0, 0, 0, 0, 0,\n",
       "       0, 0, 0, 0, 0, 0, 0, 0, 0, 0, 0, 2, 0, 0, 0, 0, 0, 0, 0, 0, 0, 0,\n",
       "       0, 0, 0, 0, 0, 0, 0, 0, 0, 0, 0, 0, 2, 0, 2, 2, 2, 2, 0, 2, 2, 2,\n",
       "       2, 2, 2, 0, 0, 2, 2, 2, 2, 0, 2, 0, 2, 0, 2, 2, 0, 0, 2, 2, 2, 2,\n",
       "       2, 0, 0, 2, 2, 2, 0, 2, 2, 2, 0, 2, 2, 2, 0, 2, 2, 0], dtype=int64)"
      ]
     },
     "execution_count": 7,
     "metadata": {},
     "output_type": "execute_result"
    }
   ],
   "source": [
    "# Set k = 3, since Y variable consists of only 3 flower species classes \n",
    "k = 3\n",
    "\n",
    "# create hierarchical clustering object\n",
    "Hclustering = AgglomerativeClustering(n_clusters=k)\n",
    "Hclustering.fit(X)\n",
    "\n",
    "# The labels_ property returns an array of integers where the values correspond to the distinct categories\n",
    "labels = Hclustering.labels_\n",
    "labels"
   ]
  },
  {
   "cell_type": "markdown",
   "id": "740e7eb6",
   "metadata": {},
   "source": [
    "### Visualise Clusters"
   ]
  },
  {
   "cell_type": "code",
   "execution_count": 8,
   "id": "72c2fbc7",
   "metadata": {},
   "outputs": [
    {
     "data": {
      "image/png": "[encoded data removed]",
      "text/plain": [
       "<Figure size 432x288 with 1 Axes>"
      ]
     },
     "metadata": {},
     "output_type": "display_data"
    }
   ],
   "source": [
    "# We can use a shorthand notation to display all the samples belonging to a category as a specific color.\n",
    "\n",
    "# Create a list to store the scatter plots\n",
    "scatter_plots = []\n",
    "\n",
    "# Iterate over the cluster labels and create a scatter plot for each label\n",
    "for label in np.unique(labels):\n",
    "    # Get the data points for the current label\n",
    "    data = X[labels == label]\n",
    "\n",
    "    # Create a scatter plot for the data points\n",
    "    scatter_plot = plt.scatter(data.iloc[:, 0], data.iloc[:, 1], label=label)\n",
    "\n",
    "    # Add the scatter plot to the list\n",
    "    scatter_plots.append(scatter_plot)\n",
    "\n",
    "# Set the title and labels for the plot\n",
    "plt.title('Hierarchical Clustering Scatter Plots')\n",
    "plt.xlabel('Sepal Length')\n",
    "plt.ylabel('Sepal Width')\n",
    "\n",
    "# Add a legend to the plot\n",
    "plt.legend()\n",
    "\n",
    "# Show the plot\n",
    "plt.show()"
   ]
  },
  {
   "cell_type": "markdown",
   "id": "0878127d",
   "metadata": {},
   "source": [
    "### Evaluate Clustering Quality"
   ]
  },
  {
   "cell_type": "code",
   "execution_count": 9,
   "id": "e4526ab7",
   "metadata": {},
   "outputs": [
    {
     "name": "stdout",
     "output_type": "stream",
     "text": [
      "Silhouette Score: 0.55\n"
     ]
    }
   ],
   "source": [
    "# generate silhouette score\n",
    "print('Silhouette Score: ' + str(round(silhouette_score(X, labels),2)))"
   ]
  }
 ],
 "metadata": {
  "kernelspec": {
   "display_name": "Python 3",
   "language": "python",
   "name": "python3"
  },
  "language_info": {
   "codemirror_mode": {
    "name": "ipython",
    "version": 3
   },
   "file_extension": ".py",
   "mimetype": "text/x-python",
   "name": "python",
   "nbconvert_exporter": "python",
   "pygments_lexer": "ipython3",
   "version": "3.8.8"
  }
 },
 "nbformat": 4,
 "nbformat_minor": 5
}
