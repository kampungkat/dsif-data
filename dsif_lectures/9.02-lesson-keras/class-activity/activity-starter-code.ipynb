{
 "cells": [
  {
   "cell_type": "markdown",
   "id": "d38a4f6e",
   "metadata": {},
   "source": [
    "# Class Activity: Leverage data from pre-trained Image Recognition models in Keras\n",
    "\n",
    "## Motivations\n",
    "Many a times in the world of data, we are given tactical data tasks with highly aggressive timelines which limit our ability to use more sophisticated modeling techniques that are highly customised to our use case.\n",
    "\n",
    "One such use case will be adopted in this activity where we aim to apply pre-trained models in Keras to a real-life industry example where you are required to help your company automate the process of determining if the images submitted in a contest post submission belong to the required category. \n",
    "\n",
    "This should  allow students who are being introduced to these concepts for the first time a chance to build confidence in this space through a simplifying yet realistic example of some of the tasks that data professionals are required to work on.\n",
    "\n",
    "\n",
    "## Objective\n",
    "- Leverage on the pre-trained models in Keras to create a simple Python function for classifying a Merlion in view of constraints on time and expertise\n",
    "\n",
    "\n",
    "## Task\n",
    "- Apply and extend the following code to a scenario where you would need to label if the image is that of a merlion or otherwise.\n",
    "\n",
    "- Create a simple python function to determine if the image is a Merlion\n",
    "\n",
    "### Consideration Factors\n",
    "1. What elements will constitute a merlion?\n",
    "2. What elements will not be a merlion?\n",
    "3. What thresholds should I use to determine if the image contains a merlion?\n",
    "\n",
    "\n",
    "### Resources\n",
    "- We will be using the `ImageNet` data set which contains  millions of labeled pictures. More details at this [link](https://image-net.org/)\n",
    "- `ImageNet` data will be used to train `ResNet50` (Microsoft Research) which is an image recognition model. More details at this [link](https://www.mathworks.com/help/deeplearning/ref/resnet50.html)\n",
    "\n",
    "\n",
    "### Sample Code"
   ]
  },
  {
   "cell_type": "code",
   "execution_count": 1,
   "id": "fa9d522c",
   "metadata": {},
   "outputs": [
    {
     "name": "stdout",
     "output_type": "stream",
     "text": [
      "This is an image of:\n",
      " - fountain: 0.885735 likelihood\n",
      " - space_shuttle: 0.074239 likelihood\n",
      " - beaker: 0.006395 likelihood\n",
      " - jellyfish: 0.003185 likelihood\n",
      " - wreck: 0.003093 likelihood\n",
      " - West_Highland_white_terrier: 0.001738 likelihood\n",
      " - pier: 0.001413 likelihood\n",
      " - king_crab: 0.001149 likelihood\n",
      " - scuba_diver: 0.001097 likelihood\n"
     ]
    }
   ],
   "source": [
    "import numpy as np\n",
    "from tensorflow.keras.preprocessing import image\n",
    "from tensorflow.keras.applications import resnet50\n",
    "\n",
    "import warnings\n",
    "warnings.filterwarnings('ignore')\n",
    "\n",
    "# Load Keras' ResNet50 model that was pre-trained against the ImageNet database\n",
    "model = resnet50.ResNet50()\n",
    "\n",
    "# Load the image file, resizing it to 224x224 pixels (required by this model)\n",
    "img = image.load_img(\"merlion.jpg\", target_size=(224, 224))\n",
    "\n",
    "# Convert the image to a numpy array\n",
    "x = image.img_to_array(img)\n",
    "\n",
    "# Add a forth dimension since Keras expects a list of images\n",
    "x = np.expand_dims(x, axis=0)\n",
    "\n",
    "# Scale the input image to the range used in the trained network\n",
    "x = resnet50.preprocess_input(x)\n",
    "\n",
    "# Run the image through the deep neural network to make a prediction\n",
    "predictions = model.predict(x)\n",
    "\n",
    "# Look up the names of the predicted classes. Index zero is the results for the first image.\n",
    "predicted_classes = resnet50.decode_predictions(predictions, top=9)\n",
    "\n",
    "print(\"This is an image of:\")\n",
    "\n",
    "for imagenet_id, name, likelihood in predicted_classes[0]:\n",
    "    print(\" - {}: {:2f} likelihood\".format(name, likelihood))"
   ]
  }
 ],
 "metadata": {
  "kernelspec": {
   "display_name": "Python 3",
   "language": "python",
   "name": "python3"
  },
  "language_info": {
   "codemirror_mode": {
    "name": "ipython",
    "version": 3
   },
   "file_extension": ".py",
   "mimetype": "text/x-python",
   "name": "python",
   "nbconvert_exporter": "python",
   "pygments_lexer": "ipython3",
   "version": "3.8.8"
  }
 },
 "nbformat": 4,
 "nbformat_minor": 5
}
