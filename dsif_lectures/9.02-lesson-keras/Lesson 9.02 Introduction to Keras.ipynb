{
 "cells": [
  {
   "cell_type": "markdown",
   "id": "475b6df8",
   "metadata": {},
   "source": [
    "# Lesson 9.02 Introduction to Keras\n",
    "\n",
    "## Overview\n",
    "\n",
    "- High-level framework for building neural networks with only a few lines of code\n",
    "\n",
    "- Front-end layer that depends on TensorFlow as a back-end library to do all its modelling and calculation work\n",
    "\n",
    "- Industry best practices are built-in\n",
    "\n",
    "- Default parameter settings in Keras are designed to give you good results in most cases\n",
    "\n",
    "\n",
    "## Required Packages\n",
    "\n",
    "Please install `keras` via Command Prompt."
   ]
  },
  {
   "cell_type": "markdown",
   "id": "a3516f7a",
   "metadata": {},
   "source": [
    "## Preprocess Data"
   ]
  },
  {
   "cell_type": "code",
   "execution_count": 1,
   "id": "f0fdb040",
   "metadata": {},
   "outputs": [
    {
     "name": "stdout",
     "output_type": "stream",
     "text": [
      "Note: total_earnings values were scaled by deducting -0.1159128297 and dividing by 270505.000000\n"
     ]
    }
   ],
   "source": [
    "# import required packages\n",
    "import pandas as pd\n",
    "import matplotlib.pyplot as plt\n",
    "from sklearn.preprocessing import MinMaxScaler\n",
    "from tensorflow.python.keras.models import Sequential\n",
    "from tensorflow.python.keras.layers import *\n",
    "\n",
    "# Load training data set from CSV file\n",
    "training_data_df = pd.read_csv(\"data/sales_data_training.csv\")\n",
    "\n",
    "# Load testing data set from CSV file\n",
    "test_data_df = pd.read_csv(\"data/sales_data_test.csv\")\n",
    "\n",
    "# Data needs to be scaled to a small range like 0 to 1 for the neural\n",
    "# network to work well.\n",
    "scaler = MinMaxScaler(feature_range=(0, 1))\n",
    "\n",
    "# Scale both the training inputs and outputs\n",
    "scaled_training = scaler.fit_transform(training_data_df)\n",
    "scaled_testing = scaler.transform(test_data_df)\n",
    "\n",
    "# Print out the adjustment that the scaler applied to the total_earnings column of data i.e. col index = 8\n",
    "# scaled_value = (unscaled_value - min_value) / (max_value - min_value)\n",
    "max_min_diff = (scaler.data_max_[8] - scaler.data_min_[8])\n",
    "print(\"Note: total_earnings values were scaled by deducting {:.10f} and dividing by {:.6f}\".format(scaler.min_[8], scaler.data_max_[8] - scaler.data_min_[8]))\n",
    "\n",
    "# Create new pandas DataFrame objects from the scaled data\n",
    "scaled_training_df = pd.DataFrame(scaled_training, columns=training_data_df.columns.values)\n",
    "scaled_testing_df = pd.DataFrame(scaled_testing, columns=test_data_df.columns.values)\n",
    "\n",
    "# Optional Step: Assuming you need to pass the scaled data to someone else to complete remaining steps\n",
    "# Save scaled data dataframes to new CSV files\n",
    "scaled_training_df.to_csv(\"data/sales_data_training_scaled.csv\", index=False)\n",
    "scaled_testing_df.to_csv(\"data/sales_data_testing_scaled.csv\", index=False)"
   ]
  },
  {
   "cell_type": "markdown",
   "id": "6648ea3e",
   "metadata": {},
   "source": [
    "## Create Model\n",
    "- When building a Neural Network, we usually do not know in advance how many layers and nodes we should use until we try it and see what gives us the best accuracy with our data set\n",
    "\n",
    "- You may try to add and change the number of nodes in each layer to find the best accuracy"
   ]
  },
  {
   "cell_type": "code",
   "execution_count": 2,
   "id": "e88d9a7c",
   "metadata": {},
   "outputs": [],
   "source": [
    "training_data_df = pd.read_csv(\"data/sales_data_training_scaled.csv\")\n",
    "\n",
    "X_train_sc = training_data_df.drop('total_earnings', axis=1).values\n",
    "y_train_sc = training_data_df[['total_earnings']].values\n",
    "\n",
    "# Define the model\n",
    "model = Sequential()\n",
    "\n",
    "# Create input layer of input size of 9 (which is equivalent to the number of features)\n",
    "# Create first hidden layer with 50 neurons\n",
    "# As a general rule, you should use 'relu' as your activation function for all hidden layers.\n",
    "# relu allows you to model more complex non-linear functions\n",
    "# More details on activation layer at www.tensorflow.org/api_docs/python/tf/keras/activations/relu\n",
    "model.add(Dense(50, input_dim=9, activation='relu'))\n",
    "model.add(Dense(100, activation='relu'))\n",
    "model.add(Dense(50, activation='relu'))\n",
    "\n",
    "# For all regression problems, your output layer will be 1 neuron with no activation function specified.\n",
    "# Predicted value for earnings should be a single linear value which aligns with linear activation function \n",
    "# when no activation function is specified, it will default to the linear activation function\n",
    "model.add(Dense(1))\n",
    "\n",
    "# Since it is a regression problem, we can use MSE as the loss function\n",
    "# Set optimizer as \"adam\" since it works well with regression problems, is computationally efficient, \n",
    "# works for non-stationary data and requires minimal memory requirements.\n",
    "model.compile(loss=\"mean_squared_error\", optimizer=\"adam\", metrics=['mse'])"
   ]
  },
  {
   "cell_type": "markdown",
   "id": "ac1e211a",
   "metadata": {},
   "source": [
    "## Train Model"
   ]
  },
  {
   "cell_type": "code",
   "execution_count": 3,
   "id": "ec6189d0",
   "metadata": {
    "scrolled": false
   },
   "outputs": [
    {
     "name": "stdout",
     "output_type": "stream",
     "text": [
      "Epoch 1/20\n",
      "32/32 - 0s - loss: 0.0120 - mse: 0.0120 - val_loss: 0.0041 - val_mse: 0.0041\n",
      "Epoch 2/20\n",
      "32/32 - 0s - loss: 0.0019 - mse: 0.0019 - val_loss: 8.9289e-04 - val_mse: 8.9289e-04\n",
      "Epoch 3/20\n",
      "32/32 - 0s - loss: 6.8141e-04 - mse: 6.8141e-04 - val_loss: 5.2602e-04 - val_mse: 5.2602e-04\n",
      "Epoch 4/20\n",
      "32/32 - 0s - loss: 3.5066e-04 - mse: 3.5066e-04 - val_loss: 2.8136e-04 - val_mse: 2.8136e-04\n",
      "Epoch 5/20\n",
      "32/32 - 0s - loss: 2.2458e-04 - mse: 2.2458e-04 - val_loss: 2.0515e-04 - val_mse: 2.0515e-04\n",
      "Epoch 6/20\n",
      "32/32 - 0s - loss: 1.6245e-04 - mse: 1.6245e-04 - val_loss: 1.6740e-04 - val_mse: 1.6740e-04\n",
      "Epoch 7/20\n",
      "32/32 - 0s - loss: 1.3880e-04 - mse: 1.3880e-04 - val_loss: 1.9030e-04 - val_mse: 1.9030e-04\n",
      "Epoch 8/20\n",
      "32/32 - 0s - loss: 1.5363e-04 - mse: 1.5363e-04 - val_loss: 1.4159e-04 - val_mse: 1.4159e-04\n",
      "Epoch 9/20\n",
      "32/32 - 0s - loss: 8.2225e-05 - mse: 8.2225e-05 - val_loss: 1.3506e-04 - val_mse: 1.3506e-04\n",
      "Epoch 10/20\n",
      "32/32 - 0s - loss: 7.3479e-05 - mse: 7.3479e-05 - val_loss: 1.0574e-04 - val_mse: 1.0574e-04\n",
      "Epoch 11/20\n",
      "32/32 - 0s - loss: 6.2139e-05 - mse: 6.2139e-05 - val_loss: 1.0375e-04 - val_mse: 1.0375e-04\n",
      "Epoch 12/20\n",
      "32/32 - 0s - loss: 4.9437e-05 - mse: 4.9437e-05 - val_loss: 8.4291e-05 - val_mse: 8.4291e-05\n",
      "Epoch 13/20\n",
      "32/32 - 0s - loss: 4.4699e-05 - mse: 4.4699e-05 - val_loss: 1.6700e-04 - val_mse: 1.6700e-04\n",
      "Epoch 14/20\n",
      "32/32 - 0s - loss: 5.8709e-05 - mse: 5.8709e-05 - val_loss: 8.1024e-05 - val_mse: 8.1024e-05\n",
      "Epoch 15/20\n",
      "32/32 - 0s - loss: 4.3622e-05 - mse: 4.3622e-05 - val_loss: 8.4457e-05 - val_mse: 8.4457e-05\n",
      "Epoch 16/20\n",
      "32/32 - 0s - loss: 3.8331e-05 - mse: 3.8331e-05 - val_loss: 6.7700e-05 - val_mse: 6.7700e-05\n",
      "Epoch 17/20\n",
      "32/32 - 0s - loss: 3.3577e-05 - mse: 3.3577e-05 - val_loss: 8.3492e-05 - val_mse: 8.3492e-05\n",
      "Epoch 18/20\n",
      "32/32 - 0s - loss: 3.5423e-05 - mse: 3.5423e-05 - val_loss: 8.7923e-05 - val_mse: 8.7923e-05\n",
      "Epoch 19/20\n",
      "32/32 - 0s - loss: 3.1104e-05 - mse: 3.1104e-05 - val_loss: 6.4815e-05 - val_mse: 6.4815e-05\n",
      "Epoch 20/20\n",
      "32/32 - 0s - loss: 3.3021e-05 - mse: 3.3021e-05 - val_loss: 6.3390e-05 - val_mse: 6.3390e-05\n"
     ]
    }
   ],
   "source": [
    "# Load the separate scaled test data set\n",
    "test_data_df = pd.read_csv(\"data/sales_data_test_scaled.csv\")\n",
    "\n",
    "# Store scaled X test values\n",
    "X_test_sc = test_data_df.drop('total_earnings', axis=1).values\n",
    "\n",
    "# Store scaled Y test values\n",
    "y_test_sc = test_data_df[['total_earnings']].values\n",
    "\n",
    "# Train the model\n",
    "# More details can be found at www.tensorflow.org/api_docs/python/tf/keras/Model#fit\n",
    "learning_curve = model.fit(\n",
    "    # Expected values of X train and Y train\n",
    "    X_train_sc,\n",
    "    \n",
    "    y_train_sc,\n",
    "    \n",
    "    # test data sets\n",
    "    validation_data=(X_test_sc, y_test_sc),\n",
    "    \n",
    "    # An epoch is an iteration over the entire x and y data provided\n",
    "    # Avoid setting epoch value too high since it could lead to overfitting issues\n",
    "    # Start with 20 and continue increasing the value till the accuracy no longer increases\n",
    "    epochs=20,\n",
    "    \n",
    "    # whether to shuffle the training data before each epoch\n",
    "    shuffle=True,\n",
    "    \n",
    "    # Instructs Keras to print more detailed instructions during training so that we can closely monitor what's going on\n",
    "    verbose=2\n",
    ")\n",
    "\n",
    "\n",
    "\n",
    "# Verbose = 0 to avoid printing full log information if you don't require it\n",
    "# test_error_rate = model.evaluate(X_test, y_test, verbose=0)\n",
    "\n",
    "# Keras prints the Neural Network's training accuracy after each epoch / training pass\n",
    "# print(\"The mean squared error (MSE) for the test data set is: {}\".format(test_error_rate))"
   ]
  },
  {
   "cell_type": "markdown",
   "id": "b5a89bdd",
   "metadata": {},
   "source": [
    "- From the values above, notice that the error rate gets smaller over time\n",
    "- **Recall** the smaller the error term, the better which means the NN on average is making predictions that are very close to the expected values"
   ]
  },
  {
   "cell_type": "markdown",
   "id": "3986d40a",
   "metadata": {},
   "source": [
    "## Make Predictions\n",
    "Neural network is now trained to look at characteristics of video games and predict their future sales based on those characteristics"
   ]
  },
  {
   "cell_type": "code",
   "execution_count": 4,
   "id": "bc46194f",
   "metadata": {},
   "outputs": [
    {
     "name": "stdout",
     "output_type": "stream",
     "text": [
      "Earnings Prediction for Proposed Product - $266939.80\n"
     ]
    }
   ],
   "source": [
    "# Load the scaled data we make to use to make a prediction\n",
    "X_scaled = pd.read_csv(\"data/proposed_new_product.csv\").values\n",
    "\n",
    "# Make a prediction for a new video game with the trained neural network\n",
    "prediction = model.predict(X_scaled)\n",
    "\n",
    "# Grab just the first element of the first prediction (since that's the only have one)\n",
    "prediction = prediction[0][0]\n",
    "\n",
    "# Re-scale the data from the 0-to-1 range back to dollars\n",
    "# These constants are from when the data was originally scaled down to the 0-to-1 range\n",
    "# unscaled_value = scaled_value * (max_value - min_value) + min_value\n",
    "prediction = prediction * (scaler.data_max_[8] - scaler.data_min_[8]) + scaler.data_min_[8]\n",
    "\n",
    "print(\"Earnings Prediction for Proposed Product - ${:.2f}\".format(prediction))"
   ]
  },
  {
   "cell_type": "markdown",
   "id": "4bd8597a",
   "metadata": {},
   "source": [
    "## Visualise Learning Curves\n",
    "Whenever you fit your `keras` model, it returns a `History` object ([link](https://keras.io/visualization/#training-history-visualization)) that can be used for plotting."
   ]
  },
  {
   "cell_type": "code",
   "execution_count": 5,
   "id": "8f6ecdd0",
   "metadata": {
    "scrolled": false
   },
   "outputs": [
    {
     "data": {
      "image/png": "[encoded data removed]",
      "text/plain": [
       "<Figure size 432x288 with 1 Axes>"
      ]
     },
     "metadata": {
      "needs_background": "light"
     },
     "output_type": "display_data"
    }
   ],
   "source": [
    "# loss refers to MSE values of train data\n",
    "# val_loss refers to MSE values of test data\n",
    "plt.plot(learning_curve.history['loss'], label='Train loss')\n",
    "plt.plot(learning_curve.history['val_loss'], label='Test Loss')\n",
    "plt.legend();"
   ]
  },
  {
   "cell_type": "markdown",
   "id": "29c1baca",
   "metadata": {},
   "source": [
    "## Evaluate Model Performance"
   ]
  },
  {
   "cell_type": "code",
   "execution_count": 6,
   "id": "bb4f8ac5",
   "metadata": {},
   "outputs": [
    {
     "name": "stdout",
     "output_type": "stream",
     "text": [
      "13/13 [==============================] - 0s 3ms/step - loss: 6.3390e-05 - mse: 6.3390e-05\n",
      "[6.338995444821194e-05, 6.338995444821194e-05]\n"
     ]
    }
   ],
   "source": [
    "# Retrieve model performance score\n",
    "print(model.evaluate(X_test_sc, y_test_sc))"
   ]
  }
 ],
 "metadata": {
  "kernelspec": {
   "display_name": "Python 3",
   "language": "python",
   "name": "python3"
  },
  "language_info": {
   "codemirror_mode": {
    "name": "ipython",
    "version": 3
   },
   "file_extension": ".py",
   "mimetype": "text/x-python",
   "name": "python",
   "nbconvert_exporter": "python",
   "pygments_lexer": "ipython3",
   "version": "3.8.8"
  }
 },
 "nbformat": 4,
 "nbformat_minor": 5
}
