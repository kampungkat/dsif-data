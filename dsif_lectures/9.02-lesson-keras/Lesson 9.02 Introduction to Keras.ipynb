{
 "cells": [
  {
   "cell_type": "markdown",
   "id": "475b6df8",
   "metadata": {},
   "source": [
    "# Lesson 9.02 Introduction to Keras\n",
    "\n",
    "## Overview\n",
    "\n",
    "- High-level framework for building neural networks with only a few lines of code\n",
    "\n",
    "- Front-end layer that depends on TensorFlow as a back-end library to do all its modelling and calculation work\n",
    "\n",
    "- Industry best practices are built-in\n",
    "\n",
    "- Default parameter settings in Keras are designed to give you good results in most cases\n",
    "\n",
    "\n",
    "## Required Packages\n",
    "\n",
    "Please install `keras` via Command Prompt."
   ]
  },
  {
   "cell_type": "markdown",
   "id": "a3516f7a",
   "metadata": {},
   "source": [
    "## Preprocess Data"
   ]
  },
  {
   "cell_type": "code",
   "execution_count": 1,
   "id": "f0fdb040",
   "metadata": {},
   "outputs": [
    {
     "name": "stderr",
     "output_type": "stream",
     "text": [
      "2024-07-30 05:44:54.021855: I tensorflow/core/util/port.cc:153] oneDNN custom operations are on. You may see slightly different numerical results due to floating-point round-off errors from different computation orders. To turn them off, set the environment variable `TF_ENABLE_ONEDNN_OPTS=0`.\n",
      "2024-07-30 05:44:54.030160: E external/local_xla/xla/stream_executor/cuda/cuda_fft.cc:485] Unable to register cuFFT factory: Attempting to register factory for plugin cuFFT when one has already been registered\n",
      "2024-07-30 05:44:54.039215: E external/local_xla/xla/stream_executor/cuda/cuda_dnn.cc:8454] Unable to register cuDNN factory: Attempting to register factory for plugin cuDNN when one has already been registered\n",
      "2024-07-30 05:44:54.041834: E external/local_xla/xla/stream_executor/cuda/cuda_blas.cc:1452] Unable to register cuBLAS factory: Attempting to register factory for plugin cuBLAS when one has already been registered\n",
      "2024-07-30 05:44:54.048993: I tensorflow/core/platform/cpu_feature_guard.cc:210] This TensorFlow binary is optimized to use available CPU instructions in performance-critical operations.\n",
      "To enable the following instructions: AVX2 AVX_VNNI FMA, in other operations, rebuild TensorFlow with the appropriate compiler flags.\n",
      "2024-07-30 05:44:54.506616: W tensorflow/compiler/tf2tensorrt/utils/py_utils.cc:38] TF-TRT Warning: Could not find TensorRT\n"
     ]
    },
    {
     "name": "stdout",
     "output_type": "stream",
     "text": [
      "Note: total_earnings values were scaled by deducting -0.1159128297 and dividing by 270505.000000\n"
     ]
    }
   ],
   "source": [
    "# import required packages\n",
    "import pandas as pd\n",
    "import matplotlib.pyplot as plt\n",
    "from sklearn.preprocessing import MinMaxScaler\n",
    "from tensorflow.keras.models import Sequential\n",
    "from tensorflow.keras.layers import *\n",
    "\n",
    "# Load training data set from CSV file\n",
    "training_data_df = pd.read_csv(\"data/sales_data_training.csv\")\n",
    "\n",
    "# Load testing data set from CSV file\n",
    "test_data_df = pd.read_csv(\"data/sales_data_test.csv\")\n",
    "\n",
    "# Data needs to be scaled to a small range like 0 to 1 for the neural\n",
    "# network to work well.\n",
    "scaler = MinMaxScaler(feature_range=(0, 1))\n",
    "\n",
    "# Scale both the training inputs and outputs\n",
    "scaled_training = scaler.fit_transform(training_data_df)\n",
    "scaled_testing = scaler.transform(test_data_df)\n",
    "\n",
    "# Print out the adjustment that the scaler applied to the total_earnings column of data i.e. col index = 8\n",
    "# scaled_value = (unscaled_value - min_value) / (max_value - min_value)\n",
    "max_min_diff = (scaler.data_max_[8] - scaler.data_min_[8])\n",
    "print(\"Note: total_earnings values were scaled by deducting {:.10f} and dividing by {:.6f}\".format(scaler.min_[8], scaler.data_max_[8] - scaler.data_min_[8]))\n",
    "\n",
    "# Create new pandas DataFrame objects from the scaled data\n",
    "scaled_training_df = pd.DataFrame(scaled_training, columns=training_data_df.columns.values)\n",
    "scaled_testing_df = pd.DataFrame(scaled_testing, columns=test_data_df.columns.values)\n",
    "\n",
    "# Optional Step: Assuming you need to pass the scaled data to someone else to complete remaining steps\n",
    "# Save scaled data dataframes to new CSV files\n",
    "scaled_training_df.to_csv(\"data/sales_data_training_scaled.csv\", index=False)\n",
    "scaled_testing_df.to_csv(\"data/sales_data_testing_scaled.csv\", index=False)"
   ]
  },
  {
   "cell_type": "markdown",
   "id": "6648ea3e",
   "metadata": {},
   "source": [
    "## Create Model\n",
    "- When building a Neural Network, we usually do not know in advance how many layers and nodes we should use until we try it and see what gives us the best accuracy with our data set\n",
    "\n",
    "- You may try to add and change the number of nodes in each layer to find the best accuracy"
   ]
  },
  {
   "cell_type": "code",
   "execution_count": 2,
   "id": "e88d9a7c",
   "metadata": {},
   "outputs": [
    {
     "name": "stderr",
     "output_type": "stream",
     "text": [
      "/home/leecming/dsif-data/.venv/lib/python3.10/site-packages/keras/src/layers/core/dense.py:87: UserWarning: Do not pass an `input_shape`/`input_dim` argument to a layer. When using Sequential models, prefer using an `Input(shape)` object as the first layer in the model instead.\n",
      "  super().__init__(activity_regularizer=activity_regularizer, **kwargs)\n",
      "WARNING: All log messages before absl::InitializeLog() is called are written to STDERR\n",
      "I0000 00:00:1722289497.246266    4529 cuda_executor.cc:1001] could not open file to read NUMA node: /sys/bus/pci/devices/0000:01:00.0/numa_node\n",
      "Your kernel may have been built without NUMA support.\n",
      "I0000 00:00:1722289497.264023    4529 cuda_executor.cc:1001] could not open file to read NUMA node: /sys/bus/pci/devices/0000:01:00.0/numa_node\n",
      "Your kernel may have been built without NUMA support.\n",
      "I0000 00:00:1722289497.264062    4529 cuda_executor.cc:1001] could not open file to read NUMA node: /sys/bus/pci/devices/0000:01:00.0/numa_node\n",
      "Your kernel may have been built without NUMA support.\n",
      "I0000 00:00:1722289497.265248    4529 cuda_executor.cc:1001] could not open file to read NUMA node: /sys/bus/pci/devices/0000:01:00.0/numa_node\n",
      "Your kernel may have been built without NUMA support.\n",
      "I0000 00:00:1722289497.265274    4529 cuda_executor.cc:1001] could not open file to read NUMA node: /sys/bus/pci/devices/0000:01:00.0/numa_node\n",
      "Your kernel may have been built without NUMA support.\n",
      "I0000 00:00:1722289497.265286    4529 cuda_executor.cc:1001] could not open file to read NUMA node: /sys/bus/pci/devices/0000:01:00.0/numa_node\n",
      "Your kernel may have been built without NUMA support.\n",
      "I0000 00:00:1722289497.366164    4529 cuda_executor.cc:1001] could not open file to read NUMA node: /sys/bus/pci/devices/0000:01:00.0/numa_node\n",
      "Your kernel may have been built without NUMA support.\n",
      "I0000 00:00:1722289497.366215    4529 cuda_executor.cc:1001] could not open file to read NUMA node: /sys/bus/pci/devices/0000:01:00.0/numa_node\n",
      "Your kernel may have been built without NUMA support.\n",
      "2024-07-30 05:44:57.366223: I tensorflow/core/common_runtime/gpu/gpu_device.cc:2112] Could not identify NUMA node of platform GPU id 0, defaulting to 0.  Your kernel may not have been built with NUMA support.\n",
      "I0000 00:00:1722289497.366252    4529 cuda_executor.cc:1001] could not open file to read NUMA node: /sys/bus/pci/devices/0000:01:00.0/numa_node\n",
      "Your kernel may have been built without NUMA support.\n",
      "2024-07-30 05:44:57.366266: I tensorflow/core/common_runtime/gpu/gpu_device.cc:2021] Created device /job:localhost/replica:0/task:0/device:GPU:0 with 21458 MB memory:  -> device: 0, name: NVIDIA GeForce RTX 4090, pci bus id: 0000:01:00.0, compute capability: 8.9\n"
     ]
    }
   ],
   "source": [
    "training_data_df = pd.read_csv(\"data/sales_data_training_scaled.csv\")\n",
    "\n",
    "X_train_sc = training_data_df.drop('total_earnings', axis=1).values\n",
    "y_train_sc = training_data_df[['total_earnings']].values\n",
    "\n",
    "# Define the model\n",
    "model = Sequential()\n",
    "\n",
    "# Create input layer of input size of 9 (which is equivalent to the number of features)\n",
    "# Create first hidden layer with 50 neurons\n",
    "# As a general rule, you should use 'relu' as your activation function for all hidden layers.\n",
    "# relu allows you to model more complex non-linear functions\n",
    "# More details on activation layer at www.tensorflow.org/api_docs/python/tf/keras/activations/relu\n",
    "model.add(Dense(50, input_dim=9, activation='relu'))\n",
    "model.add(Dense(100, activation='relu'))\n",
    "model.add(Dense(50, activation='relu'))\n",
    "\n",
    "# For all regression problems, your output layer will be 1 neuron with no activation function specified.\n",
    "# Predicted value for earnings should be a single linear value which aligns with linear activation function \n",
    "# when no activation function is specified, it will default to the linear activation function\n",
    "model.add(Dense(1))\n",
    "\n",
    "# Since it is a regression problem, we can use MSE as the loss function\n",
    "# Set optimizer as \"adam\" since it works well with regression problems, is computationally efficient, \n",
    "# works for non-stationary data and requires minimal memory requirements.\n",
    "model.compile(loss=\"mean_squared_error\", optimizer=\"adam\", metrics=['mse'])"
   ]
  },
  {
   "cell_type": "markdown",
   "id": "ac1e211a",
   "metadata": {},
   "source": [
    "## Train Model"
   ]
  },
  {
   "cell_type": "code",
   "execution_count": 3,
   "id": "ec6189d0",
   "metadata": {
    "scrolled": false
   },
   "outputs": [
    {
     "name": "stdout",
     "output_type": "stream",
     "text": [
      "Epoch 1/20\n"
     ]
    },
    {
     "name": "stderr",
     "output_type": "stream",
     "text": [
      "WARNING: All log messages before absl::InitializeLog() is called are written to STDERR\n",
      "I0000 00:00:1722289500.428825    4749 service.cc:146] XLA service 0x70b998004910 initialized for platform CUDA (this does not guarantee that XLA will be used). Devices:\n",
      "I0000 00:00:1722289500.428857    4749 service.cc:154]   StreamExecutor device (0): NVIDIA GeForce RTX 4090, Compute Capability 8.9\n",
      "2024-07-30 05:45:00.455137: I tensorflow/compiler/mlir/tensorflow/utils/dump_mlir_util.cc:268] disabling MLIR crash reproducer, set env var `MLIR_CRASH_REPRODUCER_DIRECTORY` to enable.\n",
      "2024-07-30 05:45:00.566666: I external/local_xla/xla/stream_executor/cuda/cuda_dnn.cc:531] Loaded cuDNN version 8902\n",
      "I0000 00:00:1722289501.687371    4749 device_compiler.h:188] Compiled cluster using XLA!  This line is logged at most once for the lifetime of the process.\n"
     ]
    },
    {
     "name": "stdout",
     "output_type": "stream",
     "text": [
      "32/32 - 3s - 100ms/step - loss: 0.0099 - mse: 0.0099 - val_loss: 0.0025 - val_mse: 0.0025\n",
      "Epoch 2/20\n",
      "32/32 - 2s - 75ms/step - loss: 0.0014 - mse: 0.0014 - val_loss: 6.3470e-04 - val_mse: 6.3470e-04\n",
      "Epoch 3/20\n",
      "32/32 - 0s - 2ms/step - loss: 5.0145e-04 - mse: 5.0145e-04 - val_loss: 3.8193e-04 - val_mse: 3.8193e-04\n",
      "Epoch 4/20\n",
      "32/32 - 0s - 2ms/step - loss: 2.6119e-04 - mse: 2.6119e-04 - val_loss: 2.3680e-04 - val_mse: 2.3680e-04\n",
      "Epoch 5/20\n",
      "32/32 - 0s - 2ms/step - loss: 1.7929e-04 - mse: 1.7929e-04 - val_loss: 2.0088e-04 - val_mse: 2.0088e-04\n",
      "Epoch 6/20\n",
      "32/32 - 0s - 2ms/step - loss: 1.3252e-04 - mse: 1.3252e-04 - val_loss: 2.3791e-04 - val_mse: 2.3791e-04\n",
      "Epoch 7/20\n",
      "32/32 - 0s - 2ms/step - loss: 1.3368e-04 - mse: 1.3368e-04 - val_loss: 1.7205e-04 - val_mse: 1.7205e-04\n",
      "Epoch 8/20\n",
      "32/32 - 0s - 2ms/step - loss: 1.1444e-04 - mse: 1.1444e-04 - val_loss: 1.8007e-04 - val_mse: 1.8007e-04\n",
      "Epoch 9/20\n",
      "32/32 - 0s - 2ms/step - loss: 7.5877e-05 - mse: 7.5877e-05 - val_loss: 1.5278e-04 - val_mse: 1.5278e-04\n",
      "Epoch 10/20\n",
      "32/32 - 0s - 2ms/step - loss: 6.0919e-05 - mse: 6.0919e-05 - val_loss: 1.5176e-04 - val_mse: 1.5176e-04\n",
      "Epoch 11/20\n",
      "32/32 - 0s - 2ms/step - loss: 5.6570e-05 - mse: 5.6570e-05 - val_loss: 1.3859e-04 - val_mse: 1.3859e-04\n",
      "Epoch 12/20\n",
      "32/32 - 0s - 2ms/step - loss: 5.3485e-05 - mse: 5.3485e-05 - val_loss: 1.4525e-04 - val_mse: 1.4525e-04\n",
      "Epoch 13/20\n",
      "32/32 - 0s - 2ms/step - loss: 4.9007e-05 - mse: 4.9007e-05 - val_loss: 1.3464e-04 - val_mse: 1.3464e-04\n",
      "Epoch 14/20\n",
      "32/32 - 0s - 2ms/step - loss: 4.2982e-05 - mse: 4.2982e-05 - val_loss: 1.2426e-04 - val_mse: 1.2426e-04\n",
      "Epoch 15/20\n",
      "32/32 - 0s - 2ms/step - loss: 4.1107e-05 - mse: 4.1107e-05 - val_loss: 1.4307e-04 - val_mse: 1.4307e-04\n",
      "Epoch 16/20\n",
      "32/32 - 0s - 2ms/step - loss: 6.4489e-05 - mse: 6.4489e-05 - val_loss: 3.8267e-04 - val_mse: 3.8267e-04\n",
      "Epoch 17/20\n",
      "32/32 - 0s - 2ms/step - loss: 1.5051e-04 - mse: 1.5051e-04 - val_loss: 1.3163e-04 - val_mse: 1.3163e-04\n",
      "Epoch 18/20\n",
      "32/32 - 0s - 2ms/step - loss: 5.4142e-05 - mse: 5.4142e-05 - val_loss: 1.2862e-04 - val_mse: 1.2862e-04\n",
      "Epoch 19/20\n",
      "32/32 - 0s - 2ms/step - loss: 4.6350e-05 - mse: 4.6350e-05 - val_loss: 1.2836e-04 - val_mse: 1.2836e-04\n",
      "Epoch 20/20\n",
      "32/32 - 0s - 2ms/step - loss: 4.8530e-05 - mse: 4.8530e-05 - val_loss: 1.1658e-04 - val_mse: 1.1658e-04\n"
     ]
    }
   ],
   "source": [
    "# Load the separate scaled test data set\n",
    "test_data_df = pd.read_csv(\"data/sales_data_test_scaled.csv\")\n",
    "\n",
    "# Store scaled X test values\n",
    "X_test_sc = test_data_df.drop('total_earnings', axis=1).values\n",
    "\n",
    "# Store scaled Y test values\n",
    "y_test_sc = test_data_df[['total_earnings']].values\n",
    "\n",
    "# Train the model\n",
    "# More details can be found at www.tensorflow.org/api_docs/python/tf/keras/Model#fit\n",
    "learning_curve = model.fit(\n",
    "    # Expected values of X train and Y train\n",
    "    X_train_sc,\n",
    "    \n",
    "    y_train_sc,\n",
    "    \n",
    "    # test data sets\n",
    "    validation_data=(X_test_sc, y_test_sc),\n",
    "    \n",
    "    # An epoch is an iteration over the entire x and y data provided\n",
    "    # Avoid setting epoch value too high since it could lead to overfitting issues\n",
    "    # Start with 20 and continue increasing the value till the accuracy no longer increases\n",
    "    epochs=20,\n",
    "    \n",
    "    # whether to shuffle the training data before each epoch\n",
    "    shuffle=True,\n",
    "    \n",
    "    # Instructs Keras to print more detailed instructions during training so that we can closely monitor what's going on\n",
    "    verbose=2\n",
    ")\n",
    "\n",
    "\n",
    "\n",
    "# Verbose = 0 to avoid printing full log information if you don't require it\n",
    "# test_error_rate = model.evaluate(X_test, y_test, verbose=0)\n",
    "\n",
    "# Keras prints the Neural Network's training accuracy after each epoch / training pass\n",
    "# print(\"The mean squared error (MSE) for the test data set is: {}\".format(test_error_rate))"
   ]
  },
  {
   "cell_type": "markdown",
   "id": "b5a89bdd",
   "metadata": {},
   "source": [
    "- From the values above, notice that the error rate gets smaller over time\n",
    "- **Recall** the smaller the error term, the better which means the NN on average is making predictions that are very close to the expected values"
   ]
  },
  {
   "cell_type": "markdown",
   "id": "3986d40a",
   "metadata": {},
   "source": [
    "## Make Predictions\n",
    "Neural network is now trained to look at characteristics of video games and predict their future sales based on those characteristics"
   ]
  },
  {
   "cell_type": "code",
   "execution_count": 4,
   "id": "bc46194f",
   "metadata": {},
   "outputs": [
    {
     "name": "stdout",
     "output_type": "stream",
     "text": [
      "\u001b[1m1/1\u001b[0m \u001b[32m━━━━━━━━━━━━━━━━━━━━\u001b[0m\u001b[37m\u001b[0m \u001b[1m0s\u001b[0m 102ms/step\n",
      "Earnings Prediction for Proposed Product - $267400.67\n"
     ]
    }
   ],
   "source": [
    "# Load the scaled data we make to use to make a prediction\n",
    "X_scaled = pd.read_csv(\"data/proposed_new_product.csv\").values\n",
    "\n",
    "# Make a prediction for a new video game with the trained neural network\n",
    "prediction = model.predict(X_scaled)\n",
    "\n",
    "# Grab just the first element of the first prediction (since that's the only have one)\n",
    "prediction = prediction[0][0]\n",
    "\n",
    "# Re-scale the data from the 0-to-1 range back to dollars\n",
    "# These constants are from when the data was originally scaled down to the 0-to-1 range\n",
    "# unscaled_value = scaled_value * (max_value - min_value) + min_value\n",
    "prediction = prediction * (scaler.data_max_[8] - scaler.data_min_[8]) + scaler.data_min_[8]\n",
    "\n",
    "print(\"Earnings Prediction for Proposed Product - ${:.2f}\".format(prediction))"
   ]
  },
  {
   "cell_type": "markdown",
   "id": "4bd8597a",
   "metadata": {},
   "source": [
    "## Visualise Learning Curves\n",
    "Whenever you fit your `keras` model, it returns a `History` object ([link](https://keras.io/visualization/#training-history-visualization)) that can be used for plotting."
   ]
  },
  {
   "cell_type": "code",
   "execution_count": 5,
   "id": "8f6ecdd0",
   "metadata": {
    "scrolled": false
   },
   "outputs": [
    {
     "data": {
      "image/png": "[encoded data removed]",
      "text/plain": [
       "<Figure size 640x480 with 1 Axes>"
      ]
     },
     "metadata": {},
     "output_type": "display_data"
    }
   ],
   "source": [
    "# loss refers to MSE values of train data\n",
    "# val_loss refers to MSE values of test data\n",
    "plt.plot(learning_curve.history['loss'], label='Train loss')\n",
    "plt.plot(learning_curve.history['val_loss'], label='Test Loss')\n",
    "plt.legend();"
   ]
  },
  {
   "cell_type": "markdown",
   "id": "29c1baca",
   "metadata": {},
   "source": [
    "## Evaluate Model Performance"
   ]
  },
  {
   "cell_type": "code",
   "execution_count": 6,
   "id": "bb4f8ac5",
   "metadata": {},
   "outputs": [
    {
     "name": "stdout",
     "output_type": "stream",
     "text": [
      "\u001b[1m13/13\u001b[0m \u001b[32m━━━━━━━━━━━━━━━━━━━━\u001b[0m\u001b[37m\u001b[0m \u001b[1m0s\u001b[0m 2ms/step - loss: 1.0948e-04 - mse: 1.0948e-04 \n",
      "[0.00011658046423690394, 0.00011658046423690394]\n"
     ]
    }
   ],
   "source": [
    "# Retrieve model performance score\n",
    "print(model.evaluate(X_test_sc, y_test_sc))"
   ]
  }
 ],
 "metadata": {
  "kernelspec": {
   "display_name": "Python 3",
   "language": "python",
   "name": "python3"
  },
  "language_info": {
   "codemirror_mode": {
    "name": "ipython",
    "version": 3
   },
   "file_extension": ".py",
   "mimetype": "text/x-python",
   "name": "python",
   "nbconvert_exporter": "python",
   "pygments_lexer": "ipython3",
   "version": "3.10.12"
  }
 },
 "nbformat": 4,
 "nbformat_minor": 5
}
