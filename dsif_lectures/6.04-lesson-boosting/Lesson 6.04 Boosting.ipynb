{
 "cells": [
  {
   "cell_type": "markdown",
   "id": "7a0ee38a",
   "metadata": {},
   "source": [
    "# Lesson 6.04 Boosting\n",
    "\n",
    "## What is Boosting?\n",
    "Boosting is a Supervised Machine Learning ensemble algorithm for reducing bias and variance as well as to turn weak learners into strong learners.\n",
    "\n",
    "## How is Boosting different from Bagging?\n",
    "\n",
    "- **Bagging:** Training a bunch of individual models in a parallel way. Each model is trained by a random subset of the data\n",
    "- **Boosting:** Training a bunch of individual models in a sequential way. Each individual model learns from mistakes made by the previous model.\n",
    "\n",
    "\n",
    "## Boosting Techniques\n",
    "\n",
    "### 1. AdaBoost\n",
    "\n",
    "1. An additive model where shortcomings of previous models are identified by high-weight data points.\n",
    "2. The trees are usually grown as decision stumps.\n",
    "3. Each classifier has different weights assigned to the final prediction based on its performance.\n",
    "4. It gives weights to both classifiers and observations thus capturing maximum variance within data.\n",
    "\n",
    "### 2. Gradient Boosting\n",
    "\n",
    "1. An additive model where shortcomings of previous models are identified by the gradient.\n",
    "2. The trees are grown to a greater depth usually ranging from 8 to 32 terminal nodes.\n",
    "3. All classifiers are weighed equally and their predictive capacity is restricted with learning rate to increase accuracy.\n",
    "4. It builds trees on previous classifier’s residuals thus capturing variance in data."
   ]
  },
  {
   "cell_type": "markdown",
   "id": "86736202",
   "metadata": {},
   "source": [
    "## Import Libraries"
   ]
  },
  {
   "cell_type": "code",
   "execution_count": 1,
   "id": "0a345b8a",
   "metadata": {},
   "outputs": [],
   "source": [
    "# A simple toy dataset to visualize clustering and classification algorithms\n",
    "from sklearn.datasets import make_moons\n",
    "\n",
    "from sklearn.metrics import accuracy_score\n",
    "from sklearn.model_selection import train_test_split\n",
    "from sklearn.tree import DecisionTreeClassifier\n",
    "from matplotlib import pyplot as plt\n",
    "\n",
    "from sklearn.ensemble import RandomForestClassifier,AdaBoostClassifier,GradientBoostingClassifier"
   ]
  },
  {
   "cell_type": "markdown",
   "id": "61812186",
   "metadata": {},
   "source": [
    "## Load Data"
   ]
  },
  {
   "cell_type": "code",
   "execution_count": 2,
   "id": "7b1e92fd",
   "metadata": {},
   "outputs": [],
   "source": [
    "# Noise refers to degree of introducing correlated, redundant and uninformative features to the data \n",
    "X, y = make_moons(n_samples=10000, noise=.5, random_state=0)"
   ]
  },
  {
   "cell_type": "markdown",
   "id": "befb97f5",
   "metadata": {},
   "source": [
    "## Train/Test Split"
   ]
  },
  {
   "cell_type": "code",
   "execution_count": 3,
   "id": "1af808b1",
   "metadata": {},
   "outputs": [],
   "source": [
    "X_train, X_test, y_train, y_test = train_test_split(X, y, test_size=0.2, random_state=42)"
   ]
  },
  {
   "cell_type": "markdown",
   "id": "11addc0e",
   "metadata": {},
   "source": [
    "## Fit a Decision Tree model as comparison"
   ]
  },
  {
   "cell_type": "code",
   "execution_count": 4,
   "id": "c3330270",
   "metadata": {},
   "outputs": [
    {
     "data": {
      "text/plain": [
       "0.754"
      ]
     },
     "execution_count": 4,
     "metadata": {},
     "output_type": "execute_result"
    }
   ],
   "source": [
    "clf = DecisionTreeClassifier()\n",
    "clf.fit(X_train, y_train)\n",
    "y_pred = clf.predict(X_test)\n",
    "accuracy_score(y_test, y_pred)"
   ]
  },
  {
   "cell_type": "code",
   "execution_count": 5,
   "id": "a5a86b2e",
   "metadata": {},
   "outputs": [
    {
     "name": "stdout",
     "output_type": "stream",
     "text": [
      "Feature: 0, Importance Score: 0.44983\n",
      "Feature: 1, Importance Score: 0.55017\n"
     ]
    },
    {
     "data": {
      "image/png": "[encoded data removed]",
      "text/plain": [
       "<Figure size 432x288 with 1 Axes>"
      ]
     },
     "metadata": {
      "needs_background": "light"
     },
     "output_type": "display_data"
    }
   ],
   "source": [
    "# get importance\n",
    "importance = clf.feature_importances_\n",
    "\n",
    "# summarise feature importance\n",
    "for i,v in enumerate(importance):\n",
    "    print('Feature: %0d, Importance Score: %.5f' % (i,v))\n",
    "    \n",
    "# plot feature importance\n",
    "plt.bar([x for x in range(len(importance))], importance)\n",
    "plt.show()"
   ]
  },
  {
   "cell_type": "markdown",
   "id": "f6edb918",
   "metadata": {},
   "source": [
    "## Fit a Random Forest model"
   ]
  },
  {
   "cell_type": "code",
   "execution_count": 6,
   "id": "0e029b85",
   "metadata": {},
   "outputs": [
    {
     "data": {
      "text/plain": [
       "0.7965"
      ]
     },
     "execution_count": 6,
     "metadata": {},
     "output_type": "execute_result"
    }
   ],
   "source": [
    "# n_estimators refer to the number of trees in the forest\n",
    "clf = RandomForestClassifier(n_estimators=100, random_state=0)\n",
    "clf.fit(X_train, y_train)\n",
    "y_pred = clf.predict(X_test)\n",
    "accuracy_score(y_test, y_pred)\n",
    "\n",
    "# Compared to Decision Tree model, accuracy goes up by 5%"
   ]
  },
  {
   "cell_type": "code",
   "execution_count": 7,
   "id": "1f346407",
   "metadata": {},
   "outputs": [
    {
     "name": "stdout",
     "output_type": "stream",
     "text": [
      "Feature: 0, Importance Score: 0.46409\n",
      "Feature: 1, Importance Score: 0.53591\n"
     ]
    },
    {
     "data": {
      "image/png": "[encoded data removed]",
      "text/plain": [
       "<Figure size 432x288 with 1 Axes>"
      ]
     },
     "metadata": {
      "needs_background": "light"
     },
     "output_type": "display_data"
    }
   ],
   "source": [
    "# get importance\n",
    "importance = clf.feature_importances_\n",
    "\n",
    "# summarise feature importance\n",
    "for i,v in enumerate(importance):\n",
    "    print('Feature: %0d, Importance Score: %.5f' % (i,v))\n",
    "    \n",
    "# plot feature importance\n",
    "plt.bar([x for x in range(len(importance))], importance)\n",
    "plt.show()"
   ]
  },
  {
   "cell_type": "markdown",
   "id": "c60cbbd6",
   "metadata": {},
   "source": [
    "## Fit a AdaBoost model"
   ]
  },
  {
   "cell_type": "code",
   "execution_count": 8,
   "id": "13026e29",
   "metadata": {},
   "outputs": [
    {
     "data": {
      "text/plain": [
       "0.833"
      ]
     },
     "execution_count": 8,
     "metadata": {},
     "output_type": "execute_result"
    }
   ],
   "source": [
    "# n_estimators refer to the maximum number of estimators at which boosting is terminated. \n",
    "clf = AdaBoostClassifier(n_estimators=100)\n",
    "clf.fit(X_train, y_train)\n",
    "y_pred = clf.predict(X_test)\n",
    "accuracy_score(y_test, y_pred)\n",
    "\n",
    "# Compared to Decision Tree model, accuracy go up by 10%"
   ]
  },
  {
   "cell_type": "code",
   "execution_count": 9,
   "id": "71ca005b",
   "metadata": {},
   "outputs": [
    {
     "name": "stdout",
     "output_type": "stream",
     "text": [
      "Feature: 0, Importance Score: 0.45000\n",
      "Feature: 1, Importance Score: 0.55000\n"
     ]
    },
    {
     "data": {
      "image/png": "[encoded data removed]",
      "text/plain": [
       "<Figure size 432x288 with 1 Axes>"
      ]
     },
     "metadata": {
      "needs_background": "light"
     },
     "output_type": "display_data"
    }
   ],
   "source": [
    "# get importance\n",
    "importance = clf.feature_importances_\n",
    "\n",
    "# summarise feature importance\n",
    "for i,v in enumerate(importance):\n",
    "    print('Feature: %0d, Importance Score: %.5f' % (i,v))\n",
    "    \n",
    "# plot feature importance\n",
    "plt.bar([x for x in range(len(importance))], importance)\n",
    "plt.show()"
   ]
  },
  {
   "cell_type": "markdown",
   "id": "5b73bcf3",
   "metadata": {},
   "source": [
    "## Fit a Gradient Boosting model"
   ]
  },
  {
   "cell_type": "code",
   "execution_count": 10,
   "id": "7e27bd4a",
   "metadata": {},
   "outputs": [
    {
     "data": {
      "text/plain": [
       "0.8335"
      ]
     },
     "execution_count": 10,
     "metadata": {},
     "output_type": "execute_result"
    }
   ],
   "source": [
    "# n_estimators refer to the number of boosting stages to perform\n",
    "clf = GradientBoostingClassifier(n_estimators=100)\n",
    "clf.fit(X_train, y_train)\n",
    "y_pred = clf.predict(X_test)\n",
    "accuracy_score(y_test, y_pred)\n",
    "\n",
    "# Compared to \"Decision Tree model, accuracy go up by 10%"
   ]
  },
  {
   "cell_type": "code",
   "execution_count": 11,
   "id": "63660c6e",
   "metadata": {},
   "outputs": [
    {
     "name": "stdout",
     "output_type": "stream",
     "text": [
      "Feature: 0, Importance Score: 0.41071\n",
      "Feature: 1, Importance Score: 0.58929\n"
     ]
    },
    {
     "data": {
      "image/png": "[encoded data removed]",
      "text/plain": [
       "<Figure size 432x288 with 1 Axes>"
      ]
     },
     "metadata": {
      "needs_background": "light"
     },
     "output_type": "display_data"
    }
   ],
   "source": [
    "# get importance\n",
    "importance = clf.feature_importances_\n",
    "\n",
    "# summarise feature importance\n",
    "for i,v in enumerate(importance):\n",
    "    print('Feature: %0d, Importance Score: %.5f' % (i,v))\n",
    "    \n",
    "# plot feature importance\n",
    "plt.bar([x for x in range(len(importance))], importance)\n",
    "plt.show()"
   ]
  }
 ],
 "metadata": {
  "kernelspec": {
   "display_name": "Python 3 (ipykernel)",
   "language": "python",
   "name": "python3"
  },
  "language_info": {
   "codemirror_mode": {
    "name": "ipython",
    "version": 3
   },
   "file_extension": ".py",
   "mimetype": "text/x-python",
   "name": "python",
   "nbconvert_exporter": "python",
   "pygments_lexer": "ipython3",
   "version": "3.9.12"
  }
 },
 "nbformat": 4,
 "nbformat_minor": 5
}
