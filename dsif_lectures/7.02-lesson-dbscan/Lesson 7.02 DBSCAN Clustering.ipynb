{
 "cells": [
  {
   "cell_type": "markdown",
   "id": "215bc031",
   "metadata": {},
   "source": [
    "# Lesson 7.02 DBSCAN Clustering\n",
    "\n",
    "## Definitions\n",
    "- `DBSCAN` refers to Density-based Spatial Clustering of Applications with Noise\n",
    "- `Density` refers to volume of points in a specific grouping\n",
    "- `Epsilon` refers to a measure of the neighbourhood\n",
    "- `Neighbourhood` refers to the radius of consideration of the circle around a particular point\n",
    "- `min_sample` (minPts) refers to threshold on the least number of points that we want to see in a point’s neighborhood\n",
    "\n",
    "\n",
    "## Overview\n",
    "- `DBSCAN` is an unsupervised ML algorithm for clustering\n",
    "- It takes multi-dimensional data as inputs and clusters them according to the model parameters e.g. `epsilon` and `min_sample`\n",
    "- Based on these parameters, the algorithm determines whether certain values in the dataset are outliers or not.\n",
    "\n",
    "\n",
    "## Determining Parameter Values\n",
    "### `min_sample`  \n",
    "- As a rule of thumb, if you have a large data set then you can choose `min_sample` in the order of your dimensionality. \n",
    "    - If you are working with 10 dimensionalities then it is preferable to choose a value of `min_sample` close to 10 like 12 or 15.\n",
    "    - The value of `min_sample` should be at least one greater than the number of dimensions of the dataset, i.e., `min_sample` >= Dimensions + 1.\n",
    "    \n",
    "    \n",
    "### `epsilon`  \n",
    "- Suppose you have chosen `min_sample` = 5, you will find the distance of the 5th neighbor from every data point where you will have a distance array and the ith entry in that array will represent the distance of the 5th neighbor of the ith data point. And then you are gonna sort this distance array and you are gonna plot it like this. On the y axis, you will just have the distance and on the x-axis, you will have the index (i).\n",
    "\n",
    "- As we have sorted this, as the index will increase the distance of the 5th data point from that point will also increase. \n",
    "\n",
    "- The ideal `epsilon` value would be just before the increase in the distance of the 5th data point become the highest. \n",
    "    - Refer to this [link](https://external-content.duckduckgo.com/iu/?u=https%3A%2F%2Fwww.datanovia.com%2Fen%2Fwp-content%2Fuploads%2Fdn-tutorials%2F005-advanced-clustering%2Ffigures%2F023-dbscan-density-based-clustering-k-nearest-neighbor-distance-1.png&f=1&nofb=1) for visualisation\n",
    "    - Distance (X-axis) refers to number of points / samples\n",
    "    - NN (Y-axis refers to the max distance between target point and its 5 Nearest Neigbours)\n",
    "\n",
    "\n",
    "## Setting up for DBSCAN clustering to identify outliers\n",
    "### Motivations\n",
    "- According to a [recent report](https://www.javelinstrategy.com/coverage-area/2020-identity-fraud-study-genesis-identity-fraud-crisis?ekey=1041077962&edate=20201007&cmpgnid=em-dcp-EFLS_0002M&uniqueid=J41025338000803&lnk_loc=FOOTER), financial losses due to fraudulent transactions have reached about 17 billion USD, with as many as 5% of consumers experiencing fraud incidents of some kind.\n",
    "- In light of such a big volume of financial losses, every industry is taking fraud detection seriously. \n",
    "- It’s not just the financial industries that are susceptible, anomalies are prevalent in every single industry and can take many different forms — such as network intrusion, disturbances in business performances and abrupt changes in KPIs etc.\n",
    "- Fraud/anomaly/outlier detection has long been the subject of intense research in data science. \n",
    "- In the ever-changing landscape of fraud detection, new tools and techniques are being tested and employed every day to screen out abnormalities.\n",
    "\n",
    "In this lesson, we aim to build a simple DBSCAN model to detect outliers. Do take note that a real-world application would require much more experimentation to find the best model that works for a particular context and industry.\n",
    "\n",
    "### Import Libraries"
   ]
  },
  {
   "cell_type": "code",
   "execution_count": 1,
   "id": "c04f4cd1",
   "metadata": {},
   "outputs": [],
   "source": [
    "import pandas as pd\n",
    "import numpy as np\n",
    "import matplotlib.pyplot as plt\n",
    "from pylab import rcParams\n",
    "import seaborn as sb\n",
    "import sklearn\n",
    "\n",
    "from sklearn.cluster import DBSCAN\n",
    "from collections import Counter\n",
    "from sklearn.neighbors import NearestNeighbors"
   ]
  },
  {
   "cell_type": "code",
   "execution_count": 2,
   "id": "f8f4838b",
   "metadata": {},
   "outputs": [],
   "source": [
    "rcParams['figure.figsize'] = 5, 4\n",
    "sb.set_style('whitegrid')"
   ]
  },
  {
   "cell_type": "markdown",
   "id": "5e4c0d0e",
   "metadata": {},
   "source": [
    "### Load Data"
   ]
  },
  {
   "cell_type": "code",
   "execution_count": 3,
   "id": "d7f6ce6b",
   "metadata": {},
   "outputs": [
    {
     "data": {
      "text/html": [
       "<div>\n",
       "<style scoped>\n",
       "    .dataframe tbody tr th:only-of-type {\n",
       "        vertical-align: middle;\n",
       "    }\n",
       "\n",
       "    .dataframe tbody tr th {\n",
       "        vertical-align: top;\n",
       "    }\n",
       "\n",
       "    .dataframe thead th {\n",
       "        text-align: right;\n",
       "    }\n",
       "</style>\n",
       "<table border=\"1\" class=\"dataframe\">\n",
       "  <thead>\n",
       "    <tr style=\"text-align: right;\">\n",
       "      <th></th>\n",
       "      <th>Sepal Length</th>\n",
       "      <th>Sepal Width</th>\n",
       "      <th>Petal Length</th>\n",
       "      <th>Petal Width</th>\n",
       "      <th>Species</th>\n",
       "    </tr>\n",
       "  </thead>\n",
       "  <tbody>\n",
       "    <tr>\n",
       "      <th>0</th>\n",
       "      <td>5.1</td>\n",
       "      <td>3.5</td>\n",
       "      <td>1.4</td>\n",
       "      <td>0.2</td>\n",
       "      <td>setosa</td>\n",
       "    </tr>\n",
       "    <tr>\n",
       "      <th>1</th>\n",
       "      <td>4.9</td>\n",
       "      <td>3.0</td>\n",
       "      <td>1.4</td>\n",
       "      <td>0.2</td>\n",
       "      <td>setosa</td>\n",
       "    </tr>\n",
       "    <tr>\n",
       "      <th>2</th>\n",
       "      <td>4.7</td>\n",
       "      <td>3.2</td>\n",
       "      <td>1.3</td>\n",
       "      <td>0.2</td>\n",
       "      <td>setosa</td>\n",
       "    </tr>\n",
       "    <tr>\n",
       "      <th>3</th>\n",
       "      <td>4.6</td>\n",
       "      <td>3.1</td>\n",
       "      <td>1.5</td>\n",
       "      <td>0.2</td>\n",
       "      <td>setosa</td>\n",
       "    </tr>\n",
       "    <tr>\n",
       "      <th>4</th>\n",
       "      <td>5.0</td>\n",
       "      <td>3.6</td>\n",
       "      <td>1.4</td>\n",
       "      <td>0.2</td>\n",
       "      <td>setosa</td>\n",
       "    </tr>\n",
       "  </tbody>\n",
       "</table>\n",
       "</div>"
      ],
      "text/plain": [
       "   Sepal Length  Sepal Width  Petal Length  Petal Width Species\n",
       "0           5.1          3.5           1.4          0.2  setosa\n",
       "1           4.9          3.0           1.4          0.2  setosa\n",
       "2           4.7          3.2           1.3          0.2  setosa\n",
       "3           4.6          3.1           1.5          0.2  setosa\n",
       "4           5.0          3.6           1.4          0.2  setosa"
      ]
     },
     "execution_count": 3,
     "metadata": {},
     "output_type": "execute_result"
    }
   ],
   "source": [
    "address = 'data/iris.data.csv'\n",
    "df = pd.read_csv(address, header=None, sep=',')\n",
    "\n",
    "df.columns=['Sepal Length','Sepal Width','Petal Length','Petal Width', 'Species']\n",
    "\n",
    "# Set first 4 columns as X-values \n",
    "data = df.iloc[:,0:4].values\n",
    "\n",
    "# Set the fifth column as y-values\n",
    "target = df.iloc[:,4].values\n",
    "\n",
    "# display first 5 rows of data frame\n",
    "df[:5]"
   ]
  },
  {
   "cell_type": "markdown",
   "id": "c324494e",
   "metadata": {},
   "source": [
    "### Create your model and identify outliers"
   ]
  },
  {
   "cell_type": "code",
   "execution_count": 4,
   "id": "1e8adad5",
   "metadata": {},
   "outputs": [
    {
     "name": "stdout",
     "output_type": "stream",
     "text": [
      "DBSCAN(eps=0.8, min_samples=19)\n"
     ]
    }
   ],
   "source": [
    "# Instantiate a DBSCAN object with key parameters specified\n",
    "# eps = 0.8 means a max dist of 0.8 between 2 points in order for them to be considerd as part of same neighbourhood\n",
    "# min_samples = 19 means each point must have a minimum of 19 points (inclusive of the point itself) to be considered as a core point\n",
    "model = DBSCAN(eps=0.8, min_samples=19).fit(data)\n",
    "print(model)                                            "
   ]
  },
  {
   "cell_type": "markdown",
   "id": "abbffb18",
   "metadata": {},
   "source": [
    "### Visualize your results\n",
    "- Goal is to detect outliers through data visualisation.\n",
    "- Note: We don't want more than 5% of our data points to be labeled as outliers"
   ]
  },
  {
   "cell_type": "code",
   "execution_count": 5,
   "id": "4fd6db8b",
   "metadata": {},
   "outputs": [
    {
     "name": "stdout",
     "output_type": "stream",
     "text": [
      "Counter({1: 94, 0: 50, -1: 6})\n",
      "       0    1    2    3\n",
      "98   5.1  2.5  3.0  1.1\n",
      "105  7.6  3.0  6.6  2.1\n",
      "117  7.7  3.8  6.7  2.2\n",
      "118  7.7  2.6  6.9  2.3\n",
      "122  7.7  2.8  6.7  2.0\n",
      "131  7.9  3.8  6.4  2.0\n"
     ]
    }
   ],
   "source": [
    "# goal is to check if prop of data points that are outliers are <= 5%\n",
    "outliers_df = pd.DataFrame(data)\n",
    "\n",
    "# display the total number of points for each label\n",
    "print(Counter(model.labels_))\n",
    "\n",
    "# display the specific points that are outliers i.e. label = -1\n",
    "print(outliers_df[model.labels_ ==-1])"
   ]
  },
  {
   "cell_type": "markdown",
   "id": "4b4b7d35",
   "metadata": {},
   "source": [
    "#### Interpreting Results\n",
    "1. Counter represents how many observations have been assigned to each label (i.e. 1, 2, or -1)\n",
    "2. Records with label = -1 are considered outliers \n",
    "    - 6 out of 150 total observations have been label = -1\n",
    "    - This translates into an outlier proportion of 4% which is less than 5% of original data set"
   ]
  },
  {
   "cell_type": "code",
   "execution_count": 6,
   "id": "dd802661",
   "metadata": {},
   "outputs": [
    {
     "data": {
      "text/plain": [
       "Text(0.5, 1.0, 'DBSCAN for Outlier Detection')"
      ]
     },
     "execution_count": 6,
     "metadata": {},
     "output_type": "execute_result"
    },
    {
     "data": {
      "image/png": "[encoded data removed]",
      "text/plain": [
       "<Figure size 360x288 with 1 Axes>"
      ]
     },
     "metadata": {},
     "output_type": "display_data"
    }
   ],
   "source": [
    "# create visualisation of clustering results\n",
    "fig = plt.figure()\n",
    "ax = fig.add_axes([.1, .1, 1, 1])\n",
    "\n",
    "# set colours to represent respective model labels\n",
    "colors = model.labels_\n",
    "\n",
    "# display scatter plot at column index = 2 and column index = 1\n",
    "# c refers to label colours which equal to model labels in this case\n",
    "# s refers to the size of the scatter plot\n",
    "ax.scatter(data[:,2], data[:,1], c=colors, s=120)\n",
    "\n",
    "# set labels for axes\n",
    "ax.set_xlabel('Petal Length')\n",
    "ax.set_ylabel('Sepal Width')\n",
    "\n",
    "# set title fror scatter plot\n",
    "plt.title('DBSCAN for Outlier Detection')"
   ]
  },
  {
   "cell_type": "markdown",
   "id": "0f1cdccc",
   "metadata": {},
   "source": [
    "#### Interpreting Results\n",
    "1. DBSCAN has identified the black labels at the extreme right as collective outliers i.e. data points appearing together in an abnormal position\n",
    "2. DBSCAN has identified the red and pink labels as core samples which are generated from the dense areas of the data set\n",
    "\n",
    "- <b>Note:</b> you may use Silhouette Score to measure the clustering quality if the dataset has well-defined clusters"
   ]
  },
  {
   "cell_type": "markdown",
   "id": "97fe17f2",
   "metadata": {},
   "source": [
    "### Additional: How do we find the optimal value for `epsilon`?\n",
    "- We use the K-distance graph\n",
    "- For plotting a K-distance Graph, we need the distance between a point and its nearest data point for all data points in the data set \n",
    "- We obtain this using NearestNeighbors from sklearn.neighbors"
   ]
  },
  {
   "cell_type": "code",
   "execution_count": 7,
   "id": "1b1a55d2",
   "metadata": {},
   "outputs": [],
   "source": [
    "# Select n_neighbours = (chosen value for min_samples) - 1\n",
    "nn = NearestNeighbors(n_neighbors=18)\n",
    "nn_model = nn.fit(data)\n",
    "\n",
    "# The distance variable contains an array of \n",
    "# distances between a data point and its nearest data point for all data points in data set\n",
    "distances, indices = nn_model.kneighbors(data)"
   ]
  },
  {
   "cell_type": "code",
   "execution_count": 8,
   "id": "d9dc5c23",
   "metadata": {
    "scrolled": false
   },
   "outputs": [
    {
     "data": {
      "image/png": "[encoded data removed]",
      "text/plain": [
       "<Figure size 1440x720 with 1 Axes>"
      ]
     },
     "metadata": {},
     "output_type": "display_data"
    }
   ],
   "source": [
    "# Plot K-distance graph\n",
    "distances = np.sort(distances, axis=0)\n",
    "distances = distances[:,1]\n",
    "plt.figure(figsize=(20,10))\n",
    "plt.plot(distances)\n",
    "plt.title('K-distance Graph',fontsize=20)\n",
    "plt.xlabel('Data Points sorted by distance',fontsize=14)\n",
    "plt.ylabel('Epsilon',fontsize=14)\n",
    "plt.show()"
   ]
  },
  {
   "cell_type": "markdown",
   "id": "53108d54",
   "metadata": {},
   "source": [
    "Based on the K-Distance Graph above, optimal value of `epsilon` is at the point of maximum curvature, which is around 0.7.\n",
    "\n",
    "<b>Bonus: </b> You may also write a function to find the \"elbow\" or optimal epsilon value"
   ]
  },
  {
   "cell_type": "code",
   "execution_count": 12,
   "id": "9583b94a",
   "metadata": {},
   "outputs": [
    {
     "name": "stdout",
     "output_type": "stream",
     "text": [
      "Best Epsilon: 0.6324555320336759\n"
     ]
    }
   ],
   "source": [
    "# Find the best epsilon value excluding 0.0\n",
    "def find_best_epsilon(k_distances):\n",
    "    \n",
    "    # Exclude epsilon 0.0\n",
    "    nonzero_epsilons = k_distances[k_distances > 0.0]\n",
    "    \n",
    "    # Compute differences between consecutive k-distances i.e. first derivative\n",
    "    \n",
    "    # The first derivative of the k-distances captures the rate of change of the curve. \n",
    "    # It indicates how quickly the k-distances are increasing as we move along the x-axis (data point index). \n",
    "    # However, the first derivative alone may not clearly distinguish the knee/elbow point because it can have fluctuations or noise.\n",
    "    differences = np.diff(nonzero_epsilons)\n",
    "    \n",
    "    # Calculate the second derivative of differences\n",
    "    \n",
    "    # The second derivative provides information about the rate of change of the first derivative. \n",
    "    # It helps to identify points of inflection, where the curvature of the curve changes. \n",
    "    # In the context of the k-distance graph, the second derivative identifies the point where the rate of change of the first derivative is maximized. \n",
    "    # This corresponds to the knee/elbow point, which is the transition point of the curve.\n",
    "    second_derivative = np.diff(differences)\n",
    "    \n",
    "    # By examining the second derivative, we can locate the knee/elbow point more reliably. \n",
    "    # The maximum value of the second derivative indicates the position where the curve changes its concavity, \n",
    "    # signifying the optimal epsilon value. It helps to distinguish the significant change in the slope of the k-distance graph, \n",
    "    # providing a more robust criterion for selecting the best epsilon value.\n",
    "    \n",
    "    # Find the knee/elbow point as the maximum second derivative\n",
    "    best_index = np.argmax(second_derivative)\n",
    "    \n",
    "    # Add 1 to account for the index shift\n",
    "    \n",
    "    #When calculating the differences and the second derivative of the k-distances, \n",
    "    # we remove the first element (index 0) from the k-distances array because the differences and second derivative are based on the change between consecutive elements. As a result, \n",
    "    # the second derivative will have one less element compared to the original k-distances.\n",
    "    best_epsilon = nonzero_epsilons[best_index + 1] \n",
    "    return best_epsilon\n",
    "\n",
    "\n",
    "# Invoke function\n",
    "best_epsilon = find_best_epsilon(distances)\n",
    "\n",
    "# Print the best epsilon\n",
    "print(\"Best Epsilon:\", best_epsilon)"
   ]
  }
 ],
 "metadata": {
  "kernelspec": {
   "display_name": "Python 3",
   "language": "python",
   "name": "python3"
  },
  "language_info": {
   "codemirror_mode": {
    "name": "ipython",
    "version": 3
   },
   "file_extension": ".py",
   "mimetype": "text/x-python",
   "name": "python",
   "nbconvert_exporter": "python",
   "pygments_lexer": "ipython3",
   "version": "3.8.8"
  }
 },
 "nbformat": 4,
 "nbformat_minor": 5
}
