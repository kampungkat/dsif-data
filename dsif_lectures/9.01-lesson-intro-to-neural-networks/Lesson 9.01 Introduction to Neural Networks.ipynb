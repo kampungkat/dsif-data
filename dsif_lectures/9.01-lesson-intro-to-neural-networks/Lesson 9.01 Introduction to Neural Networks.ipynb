{
 "cells": [
  {
   "cell_type": "markdown",
   "id": "d6604f66",
   "metadata": {},
   "source": [
    "# Lesson 9.01 Introduction to Neural Networks\n",
    "\n",
    "## Objective\n",
    "- Build and execute a neural network with a Perceptron \n",
    "\n",
    "## Perceptron Overview\n",
    "- It is a neural network with just one layer\n",
    "- It is a linear classifier that outputs a binary response variable\n",
    "- This model is also called a \"linear binary classifier\"\n",
    "- Data must be linearly separable in order for a perceptron to operate properly where it can be cleanly classified into one of two classes\n",
    "\n",
    "## Elements of a Perceptron\n",
    "- Input layer refers to the input variables\n",
    "- Weights refer to the co-efficients of the equation which you are trying to resolve.\n",
    "    - Negative weights reduce the value of an output.\n",
    "- Bias refers to a constant value (or a constant vector) that is added to the product of inputs and weights.\n",
    "- Weighted Sum refers to the sum of (weight * input) for all observations + bias\n",
    "- Activation Function refers to a mathematical function that can normalise the input variables\n",
    "    - Enables NNs to model complex / non-linear phenomenon"
   ]
  },
  {
   "cell_type": "code",
   "execution_count": 1,
   "id": "7a67aec0",
   "metadata": {},
   "outputs": [],
   "source": [
    "import numpy as np\n",
    "import pandas as pd\n",
    "import sklearn\n",
    "\n",
    "from pandas import Series, DataFrame\n",
    "from sklearn import datasets\n",
    "from sklearn.preprocessing import StandardScaler\n",
    "from sklearn.model_selection import train_test_split\n",
    "from sklearn.metrics import confusion_matrix, classification_report\n",
    "\n",
    "from sklearn.linear_model import Perceptron"
   ]
  },
  {
   "cell_type": "code",
   "execution_count": 2,
   "id": "f2c3bd53",
   "metadata": {},
   "outputs": [
    {
     "data": {
      "text/plain": [
       "array([[5.1, 3.5, 1.4, 0.2],\n",
       "       [4.9, 3. , 1.4, 0.2],\n",
       "       [4.7, 3.2, 1.3, 0.2],\n",
       "       [4.6, 3.1, 1.5, 0.2],\n",
       "       [5. , 3.6, 1.4, 0.2],\n",
       "       [5.4, 3.9, 1.7, 0.4],\n",
       "       [4.6, 3.4, 1.4, 0.3],\n",
       "       [5. , 3.4, 1.5, 0.2],\n",
       "       [4.4, 2.9, 1.4, 0.2],\n",
       "       [4.9, 3.1, 1.5, 0.1]])"
      ]
     },
     "execution_count": 2,
     "metadata": {},
     "output_type": "execute_result"
    }
   ],
   "source": [
    "iris = datasets.load_iris()\n",
    "\n",
    "X = iris.data\n",
    "y = iris.target\n",
    "\n",
    "# Print first 10 rows of X-values\n",
    "X[0:10,]"
   ]
  },
  {
   "cell_type": "code",
   "execution_count": 3,
   "id": "5b324c07",
   "metadata": {},
   "outputs": [],
   "source": [
    "X_train, X_test, y_train, y_test = train_test_split(X, y, test_size=0.2, random_state=42)"
   ]
  },
  {
   "cell_type": "code",
   "execution_count": 4,
   "id": "ebec9e39",
   "metadata": {},
   "outputs": [],
   "source": [
    "standardize = StandardScaler()\n",
    "\n",
    "# We use fit_transform() on the train data so that we learn the parameters of scaling on the train data\n",
    "# in the same time we scale the train data.\n",
    "standardized_X_train = standardize.fit_transform(X_train)\n",
    "\n",
    "# We only use transform() on the test data because we use the scaling paramaters previously learned on the train data\n",
    "# to scale the test data.\n",
    "standardized_X_test = standardize.transform(X_test)"
   ]
  },
  {
   "cell_type": "code",
   "execution_count": 5,
   "id": "8e455e7a",
   "metadata": {},
   "outputs": [
    {
     "data": {
      "text/plain": [
       "array([[ 0.35451684, -0.58505976,  0.55777524,  0.02224751],\n",
       "       [-0.13307079,  1.65083742, -1.16139502, -1.17911778],\n",
       "       [ 2.30486738, -1.0322392 ,  1.8185001 ,  1.49058286],\n",
       "       [ 0.23261993, -0.36147005,  0.44316389,  0.4227026 ],\n",
       "       [ 1.2077952 , -0.58505976,  0.61508092,  0.28921757],\n",
       "       [-0.49876152,  0.75647855, -1.27600637, -1.04563275],\n",
       "       [-0.2549677 , -0.36147005, -0.07258719,  0.15573254],\n",
       "       [ 1.32969211,  0.08570939,  0.78699794,  1.49058286],\n",
       "       [ 0.47641375, -1.92659808,  0.44316389,  0.4227026 ],\n",
       "       [-0.01117388, -0.80864948,  0.09932984,  0.02224751]])"
      ]
     },
     "execution_count": 5,
     "metadata": {},
     "output_type": "execute_result"
    }
   ],
   "source": [
    "# Print first 10 rows of scaled X-values\n",
    "standardized_X_test[0:10,]"
   ]
  },
  {
   "cell_type": "code",
   "execution_count": 6,
   "id": "451873f4",
   "metadata": {},
   "outputs": [
    {
     "data": {
      "text/plain": [
       "Perceptron(random_state=42)"
      ]
     },
     "execution_count": 6,
     "metadata": {},
     "output_type": "execute_result"
    }
   ],
   "source": [
    "# Instantiate a Perceptron object\n",
    "perceptron = Perceptron(random_state=42)\n",
    "\n",
    "# y_train data needs to be supplied as a 1-d array into the model\n",
    "perceptron.fit(standardized_X_train, y_train.ravel())"
   ]
  },
  {
   "cell_type": "code",
   "execution_count": 7,
   "id": "2a1a058b",
   "metadata": {},
   "outputs": [],
   "source": [
    "y_pred = perceptron.predict(standardized_X_test)"
   ]
  },
  {
   "cell_type": "code",
   "execution_count": 8,
   "id": "a645c78b",
   "metadata": {},
   "outputs": [
    {
     "name": "stdout",
     "output_type": "stream",
     "text": [
      "[1 0 2 1 1 0 1 2 1 1 2 0 0 0 0 1 2 1 1 2 0 2 0 2 2 2 2 2 0 0]\n"
     ]
    }
   ],
   "source": [
    "print(y_test)"
   ]
  },
  {
   "cell_type": "code",
   "execution_count": 9,
   "id": "f74ce657",
   "metadata": {},
   "outputs": [
    {
     "name": "stdout",
     "output_type": "stream",
     "text": [
      "[1 0 2 1 1 0 1 2 1 1 2 0 0 0 0 1 2 1 1 2 0 1 0 2 2 2 1 2 0 0]\n"
     ]
    }
   ],
   "source": [
    "print(y_pred)"
   ]
  },
  {
   "cell_type": "code",
   "execution_count": 10,
   "id": "c50c1a1d",
   "metadata": {},
   "outputs": [
    {
     "name": "stdout",
     "output_type": "stream",
     "text": [
      "              precision    recall  f1-score   support\n",
      "\n",
      "           0       1.00      1.00      1.00        10\n",
      "           1       0.82      1.00      0.90         9\n",
      "           2       1.00      0.82      0.90        11\n",
      "\n",
      "    accuracy                           0.93        30\n",
      "   macro avg       0.94      0.94      0.93        30\n",
      "weighted avg       0.95      0.93      0.93        30\n",
      "\n"
     ]
    }
   ],
   "source": [
    "print(classification_report(y_test, y_pred))"
   ]
  }
 ],
 "metadata": {
  "kernelspec": {
   "display_name": "Python 3",
   "language": "python",
   "name": "python3"
  },
  "language_info": {
   "codemirror_mode": {
    "name": "ipython",
    "version": 3
   },
   "file_extension": ".py",
   "mimetype": "text/x-python",
   "name": "python",
   "nbconvert_exporter": "python",
   "pygments_lexer": "ipython3",
   "version": "3.8.8"
  }
 },
 "nbformat": 4,
 "nbformat_minor": 5
}
