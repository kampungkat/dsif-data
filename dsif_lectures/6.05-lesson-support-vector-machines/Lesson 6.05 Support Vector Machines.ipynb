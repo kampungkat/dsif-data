{
 "cells": [
  {
   "cell_type": "markdown",
   "id": "15882fed",
   "metadata": {},
   "source": [
    "# Lesson 6.05 Support Vector Machines\n",
    "\n",
    "## What are Support Vector Machines (SVMs)?\n",
    "\n",
    "Classifier that finds an optimal hyperplane that maximises margin between 2 classes.\n",
    "\n",
    "* SVMs are fantastic models if all you care about is predictive ability\n",
    "* They are complete and total black boxes i.e. siginificance of predictors is unknown\n",
    "* You must **scale your data** since SVM tries to maximize the distance between the separating plane and the support vectors. If one feature (i.e. one dimension in this space) has very large values, it will dominate the other features when calculating the distance. If you rescale all features, they all have the same influence on the distance metric.\n",
    "* SVMs with polynomial kernel degree = 2 has been shown to work really well for NLP data!\n",
    "\n",
    "\n",
    "### Pros\n",
    "- Exceptional perfomance (historically widely used)\n",
    "- Effective in high-dimensional data\n",
    "- Can work with non-linear boundaries\n",
    "- Fast to compute with most datasets (kernel trick)\n",
    "\n",
    "### Cons\n",
    "- Black box method i.e. siginificance of predictors is unknown\n",
    "- Can be slow on large datasets i.e. massive number of rows\n"
   ]
  },
  {
   "cell_type": "markdown",
   "id": "e2323229",
   "metadata": {},
   "source": [
    "### Import Library\n",
    "\n",
    "Import [Support Vector Machines](https://scikit-learn.org/stable/modules/generated/sklearn.svm.SVC.html) from `sklearn` and explore the hyperparameters."
   ]
  },
  {
   "cell_type": "code",
   "execution_count": 1,
   "id": "e9dca10b",
   "metadata": {},
   "outputs": [],
   "source": [
    "import joblib\n",
    "import pandas as pd\n",
    "from sklearn.model_selection import GridSearchCV\n",
    "from sklearn.pipeline import Pipeline\n",
    "from sklearn.preprocessing import StandardScaler\n",
    "from sklearn.svm import SVC\n",
    "import warnings\n",
    "\n",
    "# if you are keen to remove the warnings in the output\n",
    "warnings.filterwarnings('ignore', category=FutureWarning)\n",
    "warnings.filterwarnings('ignore', category=DeprecationWarning)"
   ]
  },
  {
   "cell_type": "markdown",
   "id": "d8b238c1",
   "metadata": {},
   "source": [
    "## Fit and evaluate a model\n",
    "\n",
    "We will be using the Titanic dataset from [this](https://www.kaggle.com/c/titanic/overview) Kaggle competition.\n",
    "\n",
    "In this section, we will fit and evaluate a simple Support Vector Machines model."
   ]
  },
  {
   "cell_type": "markdown",
   "id": "ecc01bc9",
   "metadata": {},
   "source": [
    "### Read in Data"
   ]
  },
  {
   "cell_type": "code",
   "execution_count": 2,
   "id": "abf5ed57",
   "metadata": {},
   "outputs": [],
   "source": [
    "tr_features = pd.read_csv('data/train_features.csv')\n",
    "tr_labels = pd.read_csv('data/train_labels.csv', header=None)"
   ]
  },
  {
   "cell_type": "code",
   "execution_count": 3,
   "id": "5f37b5ea",
   "metadata": {},
   "outputs": [
    {
     "data": {
      "text/html": [
       "<div>\n",
       "<style scoped>\n",
       "    .dataframe tbody tr th:only-of-type {\n",
       "        vertical-align: middle;\n",
       "    }\n",
       "\n",
       "    .dataframe tbody tr th {\n",
       "        vertical-align: top;\n",
       "    }\n",
       "\n",
       "    .dataframe thead th {\n",
       "        text-align: right;\n",
       "    }\n",
       "</style>\n",
       "<table border=\"1\" class=\"dataframe\">\n",
       "  <thead>\n",
       "    <tr style=\"text-align: right;\">\n",
       "      <th></th>\n",
       "      <th>Pclass</th>\n",
       "      <th>Sex</th>\n",
       "      <th>Age</th>\n",
       "      <th>Fare</th>\n",
       "      <th>Family_cnt</th>\n",
       "      <th>Cabin_ind</th>\n",
       "    </tr>\n",
       "  </thead>\n",
       "  <tbody>\n",
       "    <tr>\n",
       "      <th>0</th>\n",
       "      <td>2</td>\n",
       "      <td>0</td>\n",
       "      <td>62.000000</td>\n",
       "      <td>10.5000</td>\n",
       "      <td>0</td>\n",
       "      <td>0</td>\n",
       "    </tr>\n",
       "    <tr>\n",
       "      <th>1</th>\n",
       "      <td>3</td>\n",
       "      <td>0</td>\n",
       "      <td>8.000000</td>\n",
       "      <td>29.1250</td>\n",
       "      <td>5</td>\n",
       "      <td>0</td>\n",
       "    </tr>\n",
       "    <tr>\n",
       "      <th>2</th>\n",
       "      <td>3</td>\n",
       "      <td>0</td>\n",
       "      <td>32.000000</td>\n",
       "      <td>56.4958</td>\n",
       "      <td>0</td>\n",
       "      <td>0</td>\n",
       "    </tr>\n",
       "    <tr>\n",
       "      <th>3</th>\n",
       "      <td>3</td>\n",
       "      <td>1</td>\n",
       "      <td>20.000000</td>\n",
       "      <td>9.8250</td>\n",
       "      <td>1</td>\n",
       "      <td>0</td>\n",
       "    </tr>\n",
       "    <tr>\n",
       "      <th>4</th>\n",
       "      <td>2</td>\n",
       "      <td>1</td>\n",
       "      <td>28.000000</td>\n",
       "      <td>13.0000</td>\n",
       "      <td>0</td>\n",
       "      <td>0</td>\n",
       "    </tr>\n",
       "    <tr>\n",
       "      <th>...</th>\n",
       "      <td>...</td>\n",
       "      <td>...</td>\n",
       "      <td>...</td>\n",
       "      <td>...</td>\n",
       "      <td>...</td>\n",
       "      <td>...</td>\n",
       "    </tr>\n",
       "    <tr>\n",
       "      <th>529</th>\n",
       "      <td>3</td>\n",
       "      <td>1</td>\n",
       "      <td>21.000000</td>\n",
       "      <td>7.6500</td>\n",
       "      <td>0</td>\n",
       "      <td>0</td>\n",
       "    </tr>\n",
       "    <tr>\n",
       "      <th>530</th>\n",
       "      <td>1</td>\n",
       "      <td>0</td>\n",
       "      <td>29.699118</td>\n",
       "      <td>31.0000</td>\n",
       "      <td>0</td>\n",
       "      <td>0</td>\n",
       "    </tr>\n",
       "    <tr>\n",
       "      <th>531</th>\n",
       "      <td>3</td>\n",
       "      <td>0</td>\n",
       "      <td>41.000000</td>\n",
       "      <td>14.1083</td>\n",
       "      <td>2</td>\n",
       "      <td>0</td>\n",
       "    </tr>\n",
       "    <tr>\n",
       "      <th>532</th>\n",
       "      <td>1</td>\n",
       "      <td>1</td>\n",
       "      <td>14.000000</td>\n",
       "      <td>120.0000</td>\n",
       "      <td>3</td>\n",
       "      <td>1</td>\n",
       "    </tr>\n",
       "    <tr>\n",
       "      <th>533</th>\n",
       "      <td>1</td>\n",
       "      <td>0</td>\n",
       "      <td>21.000000</td>\n",
       "      <td>77.2875</td>\n",
       "      <td>1</td>\n",
       "      <td>1</td>\n",
       "    </tr>\n",
       "  </tbody>\n",
       "</table>\n",
       "<p>534 rows × 6 columns</p>\n",
       "</div>"
      ],
      "text/plain": [
       "     Pclass  Sex        Age      Fare  Family_cnt  Cabin_ind\n",
       "0         2    0  62.000000   10.5000           0          0\n",
       "1         3    0   8.000000   29.1250           5          0\n",
       "2         3    0  32.000000   56.4958           0          0\n",
       "3         3    1  20.000000    9.8250           1          0\n",
       "4         2    1  28.000000   13.0000           0          0\n",
       "..      ...  ...        ...       ...         ...        ...\n",
       "529       3    1  21.000000    7.6500           0          0\n",
       "530       1    0  29.699118   31.0000           0          0\n",
       "531       3    0  41.000000   14.1083           2          0\n",
       "532       1    1  14.000000  120.0000           3          1\n",
       "533       1    0  21.000000   77.2875           1          1\n",
       "\n",
       "[534 rows x 6 columns]"
      ]
     },
     "execution_count": 3,
     "metadata": {},
     "output_type": "execute_result"
    }
   ],
   "source": [
    "tr_features"
   ]
  },
  {
   "cell_type": "code",
   "execution_count": 4,
   "id": "6fae7fe2",
   "metadata": {},
   "outputs": [
    {
     "data": {
      "text/html": [
       "<div>\n",
       "<style scoped>\n",
       "    .dataframe tbody tr th:only-of-type {\n",
       "        vertical-align: middle;\n",
       "    }\n",
       "\n",
       "    .dataframe tbody tr th {\n",
       "        vertical-align: top;\n",
       "    }\n",
       "\n",
       "    .dataframe thead th {\n",
       "        text-align: right;\n",
       "    }\n",
       "</style>\n",
       "<table border=\"1\" class=\"dataframe\">\n",
       "  <thead>\n",
       "    <tr style=\"text-align: right;\">\n",
       "      <th></th>\n",
       "      <th>0</th>\n",
       "    </tr>\n",
       "  </thead>\n",
       "  <tbody>\n",
       "    <tr>\n",
       "      <th>0</th>\n",
       "      <td>1</td>\n",
       "    </tr>\n",
       "    <tr>\n",
       "      <th>1</th>\n",
       "      <td>0</td>\n",
       "    </tr>\n",
       "    <tr>\n",
       "      <th>2</th>\n",
       "      <td>1</td>\n",
       "    </tr>\n",
       "    <tr>\n",
       "      <th>3</th>\n",
       "      <td>0</td>\n",
       "    </tr>\n",
       "    <tr>\n",
       "      <th>4</th>\n",
       "      <td>1</td>\n",
       "    </tr>\n",
       "    <tr>\n",
       "      <th>...</th>\n",
       "      <td>...</td>\n",
       "    </tr>\n",
       "    <tr>\n",
       "      <th>529</th>\n",
       "      <td>1</td>\n",
       "    </tr>\n",
       "    <tr>\n",
       "      <th>530</th>\n",
       "      <td>0</td>\n",
       "    </tr>\n",
       "    <tr>\n",
       "      <th>531</th>\n",
       "      <td>0</td>\n",
       "    </tr>\n",
       "    <tr>\n",
       "      <th>532</th>\n",
       "      <td>1</td>\n",
       "    </tr>\n",
       "    <tr>\n",
       "      <th>533</th>\n",
       "      <td>0</td>\n",
       "    </tr>\n",
       "  </tbody>\n",
       "</table>\n",
       "<p>534 rows × 1 columns</p>\n",
       "</div>"
      ],
      "text/plain": [
       "     0\n",
       "0    1\n",
       "1    0\n",
       "2    1\n",
       "3    0\n",
       "4    1\n",
       "..  ..\n",
       "529  1\n",
       "530  0\n",
       "531  0\n",
       "532  1\n",
       "533  0\n",
       "\n",
       "[534 rows x 1 columns]"
      ]
     },
     "execution_count": 4,
     "metadata": {},
     "output_type": "execute_result"
    }
   ],
   "source": [
    "tr_labels"
   ]
  },
  {
   "cell_type": "code",
   "execution_count": 5,
   "id": "6b3cb9b8",
   "metadata": {},
   "outputs": [],
   "source": [
    "svc_pipeline = Pipeline([\n",
    "    ('scaler', StandardScaler()),  # Step 1: Scale features\n",
    "    ('svc', SVC())                 # Step 2: Classifier\n",
    "])"
   ]
  },
  {
   "cell_type": "markdown",
   "id": "b8c65dc2",
   "metadata": {},
   "source": [
    "## Hyperparameter Tuning"
   ]
  },
  {
   "cell_type": "markdown",
   "id": "976b36a1",
   "metadata": {},
   "source": [
    "### Hyperparameter tuning\n",
    "\n",
    "![c](img/c.png)"
   ]
  },
  {
   "cell_type": "code",
   "execution_count": 6,
   "id": "d204a043",
   "metadata": {},
   "outputs": [],
   "source": [
    "# Display optimal param values after hyperparamter tuning using GridSearchCV\n",
    "def print_results(results):\n",
    "    print(f'BEST PARAMS: {results.best_params_} BEST SCORE: {results.best_score_:0.3f}')\n",
    "    \n",
    "    # mean accuracy of classification\n",
    "    means = results.cv_results_['mean_test_score']\n",
    "    \n",
    "    # std deviation of classification accuracy\n",
    "    stds = results.cv_results_['std_test_score']\n",
    "    \n",
    "    for mean, std, params in zip(means, stds, results.cv_results_['params']):\n",
    "        print('{} (+/-{}) for {}'.format(round(mean, 3), round(std * 2, 3), params))"
   ]
  },
  {
   "cell_type": "code",
   "execution_count": 7,
   "id": "566f5d87",
   "metadata": {},
   "outputs": [
    {
     "name": "stdout",
     "output_type": "stream",
     "text": [
      "BEST PARAMS: {'svc__C': 1, 'svc__kernel': 'rbf'} BEST SCORE: 0.830\n",
      "0.796 (+/-0.115) for {'svc__C': 0.1, 'svc__kernel': 'linear'}\n",
      "0.719 (+/-0.049) for {'svc__C': 0.1, 'svc__kernel': 'poly'}\n",
      "0.803 (+/-0.099) for {'svc__C': 0.1, 'svc__kernel': 'rbf'}\n",
      "0.796 (+/-0.115) for {'svc__C': 1, 'svc__kernel': 'linear'}\n",
      "0.822 (+/-0.11) for {'svc__C': 1, 'svc__kernel': 'poly'}\n",
      "0.83 (+/-0.098) for {'svc__C': 1, 'svc__kernel': 'rbf'}\n",
      "0.794 (+/-0.11) for {'svc__C': 10, 'svc__kernel': 'linear'}\n",
      "0.809 (+/-0.099) for {'svc__C': 10, 'svc__kernel': 'poly'}\n",
      "0.824 (+/-0.071) for {'svc__C': 10, 'svc__kernel': 'rbf'}\n"
     ]
    }
   ],
   "source": [
    "parameters = {\n",
    "    'svc__C': [0.1, 1, 10],\n",
    "    'svc__kernel': [\"linear\", \"poly\", \"rbf\"],\n",
    "}\n",
    "\n",
    "cv = GridSearchCV(svc_pipeline, parameters, cv=5)\n",
    "cv.fit(tr_features, tr_labels.values.ravel())\n",
    "\n",
    "print_results(cv)"
   ]
  },
  {
   "cell_type": "markdown",
   "id": "2ee00c0f",
   "metadata": {},
   "source": [
    "### Save model to external file\n",
    "Save your optimal model settings to a .pkl file so that it can be used to facilitate evaluation across other models, Jupyter Notebooks and stakeholders. \n",
    "\n",
    "Might be useful for projects when each member focuses on a separate set of models."
   ]
  },
  {
   "cell_type": "code",
   "execution_count": 8,
   "id": "8edd8841",
   "metadata": {},
   "outputs": [
    {
     "data": {
      "text/plain": [
       "['data/SVM_model.pkl']"
      ]
     },
     "execution_count": 8,
     "metadata": {},
     "output_type": "execute_result"
    }
   ],
   "source": [
    "# Save model to file\n",
    "joblib.dump(cv.best_estimator_, 'data/SVM_model.pkl')"
   ]
  },
  {
   "cell_type": "code",
   "execution_count": 9,
   "id": "c6b026b0",
   "metadata": {},
   "outputs": [
    {
     "data": {
      "text/plain": [
       "array([0, 0, 0, 1, 1, 1, 0, 1, 1, 0, 0, 0, 0, 1, 0, 0, 0, 0, 0, 1, 1, 1,\n",
       "       0, 1, 0, 1, 1, 0, 0, 0, 0, 0, 1, 1, 1, 1, 1, 1, 1, 0, 0, 0, 1, 1,\n",
       "       0, 1, 0, 1, 1, 1, 0, 1, 0, 0, 0, 1, 1, 0, 1, 1, 0, 0, 0, 1, 0, 1,\n",
       "       0, 0, 0, 1, 0, 1, 1, 1, 0, 1, 0, 0, 0, 0, 0, 0, 0, 0, 0, 0, 0, 0,\n",
       "       0, 0, 1, 0, 0, 0, 0, 1, 0, 0, 0, 0, 1, 0, 0, 0, 0, 1, 0, 0, 0, 0,\n",
       "       0, 1, 1, 1, 0, 0, 0, 1, 1, 0, 1, 1, 0, 1, 1, 1, 0, 0, 0, 0, 1, 1,\n",
       "       0, 1, 0, 0, 0, 1, 0, 0, 0, 0, 1, 1, 0, 0, 1, 0, 0, 0, 0, 1, 0, 0,\n",
       "       0, 0, 0, 0, 0, 1, 1, 0, 1, 0, 0, 1, 0, 0, 0, 1, 0, 1, 0, 0, 0, 0,\n",
       "       0, 0, 0, 0, 1, 0, 0, 1, 1, 0, 1, 1, 0, 1, 0, 0, 1, 0, 1, 0, 1, 0,\n",
       "       1, 0, 1, 0, 0, 0, 0, 0, 0, 1, 0, 0, 1, 0, 0, 0, 0, 0, 0, 1, 0, 0,\n",
       "       0, 0, 0, 0, 1, 0, 0, 1, 1, 0, 0, 1, 0, 0, 0, 0, 0, 0, 0, 0, 0, 0,\n",
       "       1, 0, 1, 0, 0, 1, 0, 0, 1, 1, 0, 0, 0, 0, 1, 1, 0, 0, 0, 0, 1, 0,\n",
       "       1, 0, 0, 0, 0, 1, 0, 0, 0, 0, 0, 0, 0, 0, 0, 0, 0, 1, 0, 1, 1, 1,\n",
       "       1, 1, 0, 0, 0, 1, 1, 1, 0, 0, 1, 0, 0, 1, 1, 1, 0, 0, 1, 0, 1, 0,\n",
       "       0, 1, 0, 0, 0, 0, 1, 1, 0, 0, 0, 0, 0, 0, 1, 0, 0, 1, 0, 0, 0, 0,\n",
       "       1, 0, 0, 0, 0, 0, 0, 0, 1, 1, 1, 0, 0, 1, 0, 0, 0, 0, 1, 1, 0, 0,\n",
       "       0, 0, 1, 0, 0, 0, 1, 1, 0, 1, 1, 0, 0, 0, 0, 0, 1, 0, 1, 1, 1, 0,\n",
       "       0, 0, 1, 0, 0, 0, 0, 1, 0, 0, 0, 0, 0, 0, 0, 1, 1, 0, 1, 0, 0, 1,\n",
       "       1, 1, 0, 1, 1, 1, 0, 0, 0, 0, 1, 0, 0, 0, 0, 0, 0, 0, 1, 0, 0, 0,\n",
       "       0, 1, 0, 1, 0, 1, 1, 1, 0, 0, 0, 1, 1, 1, 1, 0, 0, 0, 0, 0, 1, 1,\n",
       "       0, 0, 1, 1, 0, 1, 0, 1, 0, 1, 0, 0, 0, 0, 1, 1, 0, 0, 0, 1, 0, 0,\n",
       "       0, 1, 0, 1, 0, 0, 1, 1, 0, 1, 0, 1, 1, 1, 0, 1, 0, 0, 0, 0, 0, 1,\n",
       "       1, 0, 0, 0, 0, 0, 0, 0, 0, 0, 0, 1, 1, 0, 1, 0, 0, 0, 0, 0, 1, 0,\n",
       "       0, 0, 0, 0, 0, 0, 0, 0, 0, 0, 1, 0, 0, 0, 1, 1, 0, 0, 0, 0, 0, 1,\n",
       "       0, 1, 0, 0, 1, 0])"
      ]
     },
     "execution_count": 9,
     "metadata": {},
     "output_type": "execute_result"
    }
   ],
   "source": [
    "# Load model from file\n",
    "\n",
    "loaded_model = joblib.load('data/SVM_model.pkl')\n",
    "loaded_model.predict(tr_features)"
   ]
  },
  {
   "cell_type": "markdown",
   "id": "827a9ccc",
   "metadata": {},
   "source": [
    "### Comparison with Gradient Boosting Classifier"
   ]
  },
  {
   "cell_type": "code",
   "execution_count": 10,
   "id": "8f26dd2b",
   "metadata": {},
   "outputs": [
    {
     "name": "stdout",
     "output_type": "stream",
     "text": [
      "BEST PARAMS: {'learning_rate': 0.01, 'n_estimators': 300} BEST SCORE: 0.841\n",
      "0.815 (+/-0.069) for {'learning_rate': 0.01, 'n_estimators': 100}\n",
      "0.828 (+/-0.076) for {'learning_rate': 0.01, 'n_estimators': 200}\n",
      "0.841 (+/-0.082) for {'learning_rate': 0.01, 'n_estimators': 300}\n",
      "0.837 (+/-0.036) for {'learning_rate': 0.1, 'n_estimators': 100}\n",
      "0.828 (+/-0.034) for {'learning_rate': 0.1, 'n_estimators': 200}\n",
      "0.824 (+/-0.035) for {'learning_rate': 0.1, 'n_estimators': 300}\n",
      "0.815 (+/-0.069) for {'learning_rate': 0.01, 'n_estimators': 100}\n",
      "0.828 (+/-0.076) for {'learning_rate': 0.01, 'n_estimators': 200}\n",
      "0.841 (+/-0.082) for {'learning_rate': 0.01, 'n_estimators': 300}\n"
     ]
    }
   ],
   "source": [
    "from sklearn.ensemble import GradientBoostingClassifier\n",
    "\n",
    "gb_classifier = GradientBoostingClassifier()\n",
    "\n",
    "parameters = {\n",
    "    'n_estimators': [100, 200, 300],\n",
    "    'learning_rate': [0.01, 0.1, 0.01]\n",
    "}\n",
    "\n",
    "cv = GridSearchCV(gb_classifier, parameters, cv=5)\n",
    "cv.fit(tr_features, tr_labels.values.ravel())\n",
    "\n",
    "print_results(cv)"
   ]
  }
 ],
 "metadata": {
  "kernelspec": {
   "display_name": "Python 3",
   "language": "python",
   "name": "python3"
  },
  "language_info": {
   "codemirror_mode": {
    "name": "ipython",
    "version": 3
   },
   "file_extension": ".py",
   "mimetype": "text/x-python",
   "name": "python",
   "nbconvert_exporter": "python",
   "pygments_lexer": "ipython3",
   "version": "3.10.12"
  }
 },
 "nbformat": 4,
 "nbformat_minor": 5
}
