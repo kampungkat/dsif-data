{
 "cells": [
  {
   "cell_type": "markdown",
   "id": "15882fed",
   "metadata": {},
   "source": [
    "# Lesson 6.05 Support Vector Machines\n",
    "\n",
    "## What are Support Vector Machines (SVMs)?\n",
    "\n",
    "Classifier that finds an optimal hyperplane that maximises margin between 2 classes.\n",
    "\n",
    "* SVMs are fantastic models if all you care about is predictive ability\n",
    "* They are complete and total black boxes i.e. siginificance of predictors is unknown\n",
    "* You must **scale your data** since SVM tries to maximize the distance between the separating plane and the support vectors. If one feature (i.e. one dimension in this space) has very large values, it will dominate the other features when calculating the distance. If you rescale all features, they all have the same influence on the distance metric.\n",
    "* SVMs with polynomial kernel degree = 2 has been shown to work really well for NLP data!\n",
    "\n",
    "\n",
    "### Pros\n",
    "- Exceptional perfomance (historically widely used)\n",
    "- Effective in high-dimensional data\n",
    "- Can work with non-linear boundaries\n",
    "- Fast to compute with most datasets (kernel trick)\n",
    "\n",
    "### Cons\n",
    "- Black box method i.e. siginificance of predictors is unknown\n",
    "- Can be slow on large datasets i.e. massive number of rows\n"
   ]
  },
  {
   "cell_type": "markdown",
   "id": "e2323229",
   "metadata": {},
   "source": [
    "### Import Library\n",
    "\n",
    "Import [Support Vector Machines](https://scikit-learn.org/stable/modules/generated/sklearn.svm.SVC.html) from `sklearn` and explore the hyperparameters."
   ]
  },
  {
   "cell_type": "code",
   "execution_count": 1,
   "id": "e9dca10b",
   "metadata": {},
   "outputs": [],
   "source": [
    "from sklearn.svm import SVC\n",
    "\n",
    "# Explore the hyperparameters and default values of SVC class\n",
    "# Note we do not tune all the hyperparameters\n",
    "# Rather we focus on hyperparameters that are most impactful"
   ]
  },
  {
   "cell_type": "code",
   "execution_count": 2,
   "id": "01743a14",
   "metadata": {
    "scrolled": true
   },
   "outputs": [
    {
     "data": {
      "text/plain": [
       "['__abstractmethods__',\n",
       " '__class__',\n",
       " '__delattr__',\n",
       " '__dict__',\n",
       " '__dir__',\n",
       " '__doc__',\n",
       " '__eq__',\n",
       " '__format__',\n",
       " '__ge__',\n",
       " '__getattribute__',\n",
       " '__getstate__',\n",
       " '__gt__',\n",
       " '__hash__',\n",
       " '__init__',\n",
       " '__init_subclass__',\n",
       " '__le__',\n",
       " '__lt__',\n",
       " '__module__',\n",
       " '__ne__',\n",
       " '__new__',\n",
       " '__reduce__',\n",
       " '__reduce_ex__',\n",
       " '__repr__',\n",
       " '__setattr__',\n",
       " '__setstate__',\n",
       " '__sizeof__',\n",
       " '__str__',\n",
       " '__subclasshook__',\n",
       " '__weakref__',\n",
       " '_abc_impl',\n",
       " '_check_n_features',\n",
       " '_check_proba',\n",
       " '_compute_kernel',\n",
       " '_decision_function',\n",
       " '_dense_decision_function',\n",
       " '_dense_fit',\n",
       " '_dense_predict',\n",
       " '_dense_predict_proba',\n",
       " '_estimator_type',\n",
       " '_get_coef',\n",
       " '_get_param_names',\n",
       " '_get_tags',\n",
       " '_impl',\n",
       " '_more_tags',\n",
       " '_pairwise',\n",
       " '_predict_log_proba',\n",
       " '_predict_proba',\n",
       " '_repr_html_',\n",
       " '_repr_html_inner',\n",
       " '_repr_mimebundle_',\n",
       " '_sparse_decision_function',\n",
       " '_sparse_fit',\n",
       " '_sparse_kernels',\n",
       " '_sparse_predict',\n",
       " '_sparse_predict_proba',\n",
       " '_validate_data',\n",
       " '_validate_for_predict',\n",
       " '_validate_targets',\n",
       " '_warn_from_fit_status',\n",
       " 'coef_',\n",
       " 'decision_function',\n",
       " 'fit',\n",
       " 'get_params',\n",
       " 'n_support_',\n",
       " 'predict',\n",
       " 'predict_log_proba',\n",
       " 'predict_proba',\n",
       " 'probA_',\n",
       " 'probB_',\n",
       " 'score',\n",
       " 'set_params']"
      ]
     },
     "execution_count": 2,
     "metadata": {},
     "output_type": "execute_result"
    }
   ],
   "source": [
    "# Explore the default methods of SVC class\n",
    "dir(SVC)"
   ]
  },
  {
   "cell_type": "markdown",
   "id": "d8b238c1",
   "metadata": {},
   "source": [
    "## Fit and evaluate a model\n",
    "\n",
    "We will be using the Titanic dataset from [this](https://www.kaggle.com/c/titanic/overview) Kaggle competition.\n",
    "\n",
    "In this section, we will fit and evaluate a simple Support Vector Machines model."
   ]
  },
  {
   "cell_type": "markdown",
   "id": "ecc01bc9",
   "metadata": {},
   "source": [
    "### Read in Data"
   ]
  },
  {
   "cell_type": "code",
   "execution_count": 3,
   "id": "abf5ed57",
   "metadata": {},
   "outputs": [],
   "source": [
    "import joblib\n",
    "import pandas as pd\n",
    "from sklearn.model_selection import GridSearchCV\n",
    "from sklearn.svm import SVC\n",
    "import warnings\n",
    "\n",
    "# if you are keen to remove the warnings in the output\n",
    "warnings.filterwarnings('ignore', category=FutureWarning)\n",
    "warnings.filterwarnings('ignore', category=DeprecationWarning)\n",
    "\n",
    "tr_features = pd.read_csv('data/train_features.csv')\n",
    "tr_labels = pd.read_csv('data/train_labels.csv', header=None)"
   ]
  },
  {
   "cell_type": "markdown",
   "id": "b8c65dc2",
   "metadata": {},
   "source": [
    "## Hyperparameter Tuning"
   ]
  },
  {
   "cell_type": "markdown",
   "id": "976b36a1",
   "metadata": {},
   "source": [
    "### Hyperparameter tuning\n",
    "\n",
    "![c](img/c.png)"
   ]
  },
  {
   "cell_type": "code",
   "execution_count": 4,
   "id": "d204a043",
   "metadata": {},
   "outputs": [],
   "source": [
    "# Display optimal param values after hyperparamter tuning using GridSearchCV\n",
    "def print_results(results):\n",
    "    print('BEST PARAMS: {}\\n'.format(results.best_params_))\n",
    "    \n",
    "    # mean accuracy of classification\n",
    "    means = results.cv_results_['mean_test_score']\n",
    "    \n",
    "    # std deviation of classification accuracy\n",
    "    stds = results.cv_results_['std_test_score']\n",
    "    \n",
    "    for mean, std, params in zip(means, stds, results.cv_results_['params']):\n",
    "        print('{} (+/-{}) for {}'.format(round(mean, 3), round(std * 2, 3), params))"
   ]
  },
  {
   "cell_type": "code",
   "execution_count": 5,
   "id": "566f5d87",
   "metadata": {},
   "outputs": [
    {
     "name": "stdout",
     "output_type": "stream",
     "text": [
      "BEST PARAMS: {'C': 10}\n",
      "\n",
      "0.654 (+/-0.06) for {'C': 0.1}\n",
      "0.661 (+/-0.048) for {'C': 1}\n",
      "0.684 (+/-0.07) for {'C': 10}\n"
     ]
    }
   ],
   "source": [
    "svc = SVC()\n",
    "parameters = {\n",
    "    'C': [0.1, 1, 10],\n",
    "\n",
    "}\n",
    "\n",
    "cv = GridSearchCV(svc, parameters, cv=5)\n",
    "cv.fit(tr_features, tr_labels.values.ravel())\n",
    "\n",
    "print_results(cv)"
   ]
  },
  {
   "cell_type": "code",
   "execution_count": 6,
   "id": "3797ea9a",
   "metadata": {},
   "outputs": [
    {
     "data": {
      "text/plain": [
       "SVC(C=10)"
      ]
     },
     "execution_count": 6,
     "metadata": {},
     "output_type": "execute_result"
    }
   ],
   "source": [
    "cv.best_estimator_"
   ]
  },
  {
   "cell_type": "markdown",
   "id": "2ee00c0f",
   "metadata": {},
   "source": [
    "### Save model to external file\n",
    "Save your optimal model settings to a .pkl file so that it can be used to facilitate evaluation across other models, Jupyter Notebooks and stakeholders. \n",
    "\n",
    "Might be useful for projects when each member focuses on a separate set of models."
   ]
  },
  {
   "cell_type": "code",
   "execution_count": 7,
   "id": "8edd8841",
   "metadata": {},
   "outputs": [
    {
     "data": {
      "text/plain": [
       "['data/SVM_model.pkl']"
      ]
     },
     "execution_count": 7,
     "metadata": {},
     "output_type": "execute_result"
    }
   ],
   "source": [
    "# Save model to file\n",
    "joblib.dump(cv.best_estimator_, 'data/SVM_model.pkl')\n",
    "\n",
    "# Read models from file\n",
    "# models = {}\n",
    "# for mdl in ['LR','SVM','KNN','RF','GB']:\n",
    "#     models[mdl] = joblib.load('data/{}_model.pkl',format(mdl))"
   ]
  }
 ],
 "metadata": {
  "kernelspec": {
   "display_name": "Python 3",
   "language": "python",
   "name": "python3"
  },
  "language_info": {
   "codemirror_mode": {
    "name": "ipython",
    "version": 3
   },
   "file_extension": ".py",
   "mimetype": "text/x-python",
   "name": "python",
   "nbconvert_exporter": "python",
   "pygments_lexer": "ipython3",
   "version": "3.8.8"
  }
 },
 "nbformat": 4,
 "nbformat_minor": 5
}
