{
 "cells": [
  {
   "cell_type": "markdown",
   "id": "031d0c31",
   "metadata": {},
   "source": [
    "# Lesson 9.03 Deep Learning Optimization (Solution Code)"
   ]
  },
  {
   "cell_type": "markdown",
   "id": "55e91266",
   "metadata": {},
   "source": [
    "## Import Libraries"
   ]
  },
  {
   "cell_type": "code",
   "execution_count": 1,
   "id": "a246cce3",
   "metadata": {},
   "outputs": [],
   "source": [
    "import numpy\n",
    "import pandas as pd\n",
    "from sklearn.model_selection import GridSearchCV\n",
    "from keras.models import Sequential\n",
    "from keras.layers import Dense\n",
    "import warnings\n",
    "warnings.filterwarnings('ignore')\n",
    "from keras.wrappers.scikit_learn import KerasClassifier"
   ]
  },
  {
   "cell_type": "markdown",
   "id": "c2ee4ba2",
   "metadata": {},
   "source": [
    "## Load Data"
   ]
  },
  {
   "cell_type": "code",
   "execution_count": 2,
   "id": "b5d155b1",
   "metadata": {},
   "outputs": [
    {
     "data": {
      "text/html": [
       "<div>\n",
       "<style scoped>\n",
       "    .dataframe tbody tr th:only-of-type {\n",
       "        vertical-align: middle;\n",
       "    }\n",
       "\n",
       "    .dataframe tbody tr th {\n",
       "        vertical-align: top;\n",
       "    }\n",
       "\n",
       "    .dataframe thead th {\n",
       "        text-align: right;\n",
       "    }\n",
       "</style>\n",
       "<table border=\"1\" class=\"dataframe\">\n",
       "  <thead>\n",
       "    <tr style=\"text-align: right;\">\n",
       "      <th></th>\n",
       "      <th>Pregnancies</th>\n",
       "      <th>Glucose</th>\n",
       "      <th>BloodPressure</th>\n",
       "      <th>SkinThickness</th>\n",
       "      <th>Insulin</th>\n",
       "      <th>BMI</th>\n",
       "      <th>DiabetesPedigreeFunction</th>\n",
       "      <th>Age</th>\n",
       "      <th>Outcome</th>\n",
       "    </tr>\n",
       "  </thead>\n",
       "  <tbody>\n",
       "    <tr>\n",
       "      <th>0</th>\n",
       "      <td>6</td>\n",
       "      <td>148</td>\n",
       "      <td>72</td>\n",
       "      <td>35</td>\n",
       "      <td>0</td>\n",
       "      <td>33.6</td>\n",
       "      <td>0.627</td>\n",
       "      <td>50</td>\n",
       "      <td>1</td>\n",
       "    </tr>\n",
       "    <tr>\n",
       "      <th>1</th>\n",
       "      <td>1</td>\n",
       "      <td>85</td>\n",
       "      <td>66</td>\n",
       "      <td>29</td>\n",
       "      <td>0</td>\n",
       "      <td>26.6</td>\n",
       "      <td>0.351</td>\n",
       "      <td>31</td>\n",
       "      <td>0</td>\n",
       "    </tr>\n",
       "    <tr>\n",
       "      <th>2</th>\n",
       "      <td>8</td>\n",
       "      <td>183</td>\n",
       "      <td>64</td>\n",
       "      <td>0</td>\n",
       "      <td>0</td>\n",
       "      <td>23.3</td>\n",
       "      <td>0.672</td>\n",
       "      <td>32</td>\n",
       "      <td>1</td>\n",
       "    </tr>\n",
       "    <tr>\n",
       "      <th>3</th>\n",
       "      <td>1</td>\n",
       "      <td>89</td>\n",
       "      <td>66</td>\n",
       "      <td>23</td>\n",
       "      <td>94</td>\n",
       "      <td>28.1</td>\n",
       "      <td>0.167</td>\n",
       "      <td>21</td>\n",
       "      <td>0</td>\n",
       "    </tr>\n",
       "    <tr>\n",
       "      <th>4</th>\n",
       "      <td>0</td>\n",
       "      <td>137</td>\n",
       "      <td>40</td>\n",
       "      <td>35</td>\n",
       "      <td>168</td>\n",
       "      <td>43.1</td>\n",
       "      <td>2.288</td>\n",
       "      <td>33</td>\n",
       "      <td>1</td>\n",
       "    </tr>\n",
       "  </tbody>\n",
       "</table>\n",
       "</div>"
      ],
      "text/plain": [
       "   Pregnancies  Glucose  BloodPressure  SkinThickness  Insulin   BMI  \\\n",
       "0            6      148             72             35        0  33.6   \n",
       "1            1       85             66             29        0  26.6   \n",
       "2            8      183             64              0        0  23.3   \n",
       "3            1       89             66             23       94  28.1   \n",
       "4            0      137             40             35      168  43.1   \n",
       "\n",
       "   DiabetesPedigreeFunction  Age  Outcome  \n",
       "0                     0.627   50        1  \n",
       "1                     0.351   31        0  \n",
       "2                     0.672   32        1  \n",
       "3                     0.167   21        0  \n",
       "4                     2.288   33        1  "
      ]
     },
     "execution_count": 2,
     "metadata": {},
     "output_type": "execute_result"
    }
   ],
   "source": [
    "# training data\n",
    "# outcome value = 1 means diabetic while Outcome value = 0 means non-diabetic\n",
    "data = pd.read_csv('diabetes.csv')\n",
    "data.head()"
   ]
  },
  {
   "cell_type": "code",
   "execution_count": 3,
   "id": "6a6522c1",
   "metadata": {},
   "outputs": [],
   "source": [
    "# split into predictors and response\n",
    "X = data.iloc[:,0:8] #predictors\n",
    "y = data.iloc[:,8] #target"
   ]
  },
  {
   "cell_type": "markdown",
   "id": "274555b7",
   "metadata": {},
   "source": [
    "## Create Model"
   ]
  },
  {
   "cell_type": "code",
   "execution_count": 4,
   "id": "f5b4e44d",
   "metadata": {},
   "outputs": [],
   "source": [
    "# function to create model for KerasClassifier\n",
    "def create_model():\n",
    "    #define model\n",
    "    model = Sequential() # keras sequential model\n",
    "    model.add(Dense(12, input_dim=8, activation='relu')) # input layer contains 8 Independent Variables\n",
    "    model.add(Dense(1, activation='sigmoid')) # binary classification use sigmoid\n",
    "    # more info on which activation function to use at machinelearningmastery.com/choose-an-activation-function-for-deep-learning/\n",
    "    \n",
    "    # compile model\n",
    "    # use binary_crossentropy as loss function for binary classification problems\n",
    "    # on the other hand use categorical_crossentropy as loss function for multi-classification problems\n",
    "    # use adam optimizer as default\n",
    "    model.compile(loss='binary_crossentropy', optimizer='adam', metrics=['accuracy'])\n",
    "    return model"
   ]
  },
  {
   "cell_type": "code",
   "execution_count": 5,
   "id": "a4701538",
   "metadata": {},
   "outputs": [],
   "source": [
    "# create model\n",
    "model = KerasClassifier(build_fn=create_model)"
   ]
  },
  {
   "cell_type": "markdown",
   "id": "8ab6daa9",
   "metadata": {},
   "source": [
    "## Optimizing Batch and Epoch"
   ]
  },
  {
   "cell_type": "code",
   "execution_count": 6,
   "id": "2083c2d3",
   "metadata": {},
   "outputs": [],
   "source": [
    "# determine grid search parameters\n",
    "\n",
    "# The batch size defines the number of samples that will be propagated through the network.\n",
    "# More info at https://stats.stackexchange.com/questions/153531/what-is-batch-size-in-neural-network\n",
    "batchSize = [10, 20, 40, 60, 80, 100]\n",
    "\n",
    "# An epoch is an iteration over the entire x and y data provided.\n",
    "# More info at https://www.tensorflow.org/api_docs/python/tf/keras/Sequential\n",
    "epochs = [10, 30, 50]"
   ]
  },
  {
   "cell_type": "code",
   "execution_count": 7,
   "id": "36982d72",
   "metadata": {},
   "outputs": [
    {
     "name": "stdout",
     "output_type": "stream",
     "text": [
      "Epoch 1/50\n",
      "77/77 [==============================] - 0s 622us/step - loss: 3.6053 - accuracy: 0.6432\n",
      "Epoch 2/50\n",
      "77/77 [==============================] - 0s 648us/step - loss: 1.8513 - accuracy: 0.6211\n",
      "Epoch 3/50\n",
      "77/77 [==============================] - 0s 674us/step - loss: 1.3968 - accuracy: 0.6328\n",
      "Epoch 4/50\n",
      "77/77 [==============================] - 0s 687us/step - loss: 1.1605 - accuracy: 0.62370s - loss: 1.1629 - accuracy: 0.62\n",
      "Epoch 5/50\n",
      "77/77 [==============================] - 0s 674us/step - loss: 1.0316 - accuracy: 0.6211\n",
      "Epoch 6/50\n",
      "77/77 [==============================] - 0s 842us/step - loss: 0.9071 - accuracy: 0.6263\n",
      "Epoch 7/50\n",
      "77/77 [==============================] - 0s 790us/step - loss: 0.8390 - accuracy: 0.6406\n",
      "Epoch 8/50\n",
      "77/77 [==============================] - 0s 622us/step - loss: 0.8024 - accuracy: 0.6367\n",
      "Epoch 9/50\n",
      "77/77 [==============================] - 0s 622us/step - loss: 0.7346 - accuracy: 0.6458\n",
      "Epoch 10/50\n",
      "77/77 [==============================] - 0s 596us/step - loss: 0.7441 - accuracy: 0.6589\n",
      "Epoch 11/50\n",
      "77/77 [==============================] - 0s 609us/step - loss: 0.7350 - accuracy: 0.6484\n",
      "Epoch 12/50\n",
      "77/77 [==============================] - 0s 725us/step - loss: 0.6776 - accuracy: 0.6927\n",
      "Epoch 13/50\n",
      "77/77 [==============================] - 0s 635us/step - loss: 0.6739 - accuracy: 0.6784\n",
      "Epoch 14/50\n",
      "77/77 [==============================] - 0s 661us/step - loss: 0.6575 - accuracy: 0.6914\n",
      "Epoch 15/50\n",
      "77/77 [==============================] - 0s 608us/step - loss: 0.6629 - accuracy: 0.6732\n",
      "Epoch 16/50\n",
      "77/77 [==============================] - 0s 596us/step - loss: 0.6601 - accuracy: 0.6745\n",
      "Epoch 17/50\n",
      "77/77 [==============================] - 0s 638us/step - loss: 0.6477 - accuracy: 0.6901\n",
      "Epoch 18/50\n",
      "77/77 [==============================] - 0s 617us/step - loss: 0.6387 - accuracy: 0.7018\n",
      "Epoch 19/50\n",
      "77/77 [==============================] - 0s 621us/step - loss: 0.6345 - accuracy: 0.7031\n",
      "Epoch 20/50\n",
      "77/77 [==============================] - 0s 610us/step - loss: 0.6346 - accuracy: 0.6927\n",
      "Epoch 21/50\n",
      "77/77 [==============================] - 0s 637us/step - loss: 0.6313 - accuracy: 0.7070\n",
      "Epoch 22/50\n",
      "77/77 [==============================] - 0s 605us/step - loss: 0.6196 - accuracy: 0.6979\n",
      "Epoch 23/50\n",
      "77/77 [==============================] - 0s 623us/step - loss: 0.6459 - accuracy: 0.6927\n",
      "Epoch 24/50\n",
      "77/77 [==============================] - 0s 699us/step - loss: 0.6242 - accuracy: 0.7188\n",
      "Epoch 25/50\n",
      "77/77 [==============================] - 0s 829us/step - loss: 0.6315 - accuracy: 0.7005\n",
      "Epoch 26/50\n",
      "77/77 [==============================] - 0s 786us/step - loss: 0.6161 - accuracy: 0.7057\n",
      "Epoch 27/50\n",
      "77/77 [==============================] - 0s 695us/step - loss: 0.6108 - accuracy: 0.7174\n",
      "Epoch 28/50\n",
      "77/77 [==============================] - 0s 726us/step - loss: 0.6192 - accuracy: 0.71350s - loss: 0.6236 - accuracy: 0.71\n",
      "Epoch 29/50\n",
      "77/77 [==============================] - 0s 579us/step - loss: 0.5973 - accuracy: 0.7253\n",
      "Epoch 30/50\n",
      "77/77 [==============================] - 0s 631us/step - loss: 0.5948 - accuracy: 0.7201\n",
      "Epoch 31/50\n",
      "77/77 [==============================] - 0s 615us/step - loss: 0.6512 - accuracy: 0.6823\n",
      "Epoch 32/50\n",
      "77/77 [==============================] - 0s 600us/step - loss: 0.5899 - accuracy: 0.7279\n",
      "Epoch 33/50\n",
      "77/77 [==============================] - 0s 611us/step - loss: 0.5940 - accuracy: 0.7201\n",
      "Epoch 34/50\n",
      "77/77 [==============================] - 0s 625us/step - loss: 0.5866 - accuracy: 0.7370\n",
      "Epoch 35/50\n",
      "77/77 [==============================] - 0s 610us/step - loss: 0.5977 - accuracy: 0.7057\n",
      "Epoch 36/50\n",
      "77/77 [==============================] - 0s 588us/step - loss: 0.5747 - accuracy: 0.7357\n",
      "Epoch 37/50\n",
      "77/77 [==============================] - 0s 621us/step - loss: 0.6027 - accuracy: 0.6875\n",
      "Epoch 38/50\n",
      "77/77 [==============================] - 0s 625us/step - loss: 0.5918 - accuracy: 0.7148\n",
      "Epoch 39/50\n",
      "77/77 [==============================] - 0s 608us/step - loss: 0.5795 - accuracy: 0.7122\n",
      "Epoch 40/50\n",
      "77/77 [==============================] - 0s 592us/step - loss: 0.5831 - accuracy: 0.7253\n",
      "Epoch 41/50\n",
      "77/77 [==============================] - 0s 593us/step - loss: 0.6044 - accuracy: 0.7096\n",
      "Epoch 42/50\n",
      "77/77 [==============================] - 0s 588us/step - loss: 0.5846 - accuracy: 0.7148\n",
      "Epoch 43/50\n",
      "77/77 [==============================] - 0s 637us/step - loss: 0.5803 - accuracy: 0.7370\n",
      "Epoch 44/50\n",
      "77/77 [==============================] - 0s 628us/step - loss: 0.6217 - accuracy: 0.6810\n",
      "Epoch 45/50\n",
      "77/77 [==============================] - 0s 600us/step - loss: 0.5593 - accuracy: 0.7370\n",
      "Epoch 46/50\n",
      "77/77 [==============================] - 0s 569us/step - loss: 0.5789 - accuracy: 0.7109\n",
      "Epoch 47/50\n",
      "77/77 [==============================] - 0s 610us/step - loss: 0.5622 - accuracy: 0.7240\n",
      "Epoch 48/50\n",
      "77/77 [==============================] - 0s 632us/step - loss: 0.5731 - accuracy: 0.7057\n",
      "Epoch 49/50\n",
      "77/77 [==============================] - 0s 596us/step - loss: 0.5693 - accuracy: 0.7279\n",
      "Epoch 50/50\n",
      "77/77 [==============================] - 0s 557us/step - loss: 0.5793 - accuracy: 0.7201\n"
     ]
    }
   ],
   "source": [
    "# store parameters and values in a dictionary\n",
    "parameter_grid = dict(batch_size=batchSize, epochs=epochs)\n",
    "\n",
    "# n_jobs = -1 means use all resources / processors avaiable in CPU\n",
    "grid = GridSearchCV(estimator=model, param_grid=parameter_grid, n_jobs=-1)\n",
    "grid_result = grid.fit(X, y)"
   ]
  },
  {
   "cell_type": "code",
   "execution_count": 8,
   "id": "5cb72ad6",
   "metadata": {},
   "outputs": [
    {
     "name": "stdout",
     "output_type": "stream",
     "text": [
      "Best: 0.694075 using {'batch_size': 10, 'epochs': 50}\n"
     ]
    }
   ],
   "source": [
    "# summarize accuracy results for best set of parameter values\n",
    "print('Best: %f using %s' % (grid_result.best_score_, grid_result.best_params_))"
   ]
  },
  {
   "cell_type": "markdown",
   "id": "c44421b1",
   "metadata": {},
   "source": [
    "## Tuning Optimizer Function\n",
    "Find the best optimizer that fits the model"
   ]
  },
  {
   "cell_type": "code",
   "execution_count": 9,
   "id": "66d7275f",
   "metadata": {},
   "outputs": [],
   "source": [
    "# create an updated function to tune optimizer \n",
    "def create_model(optimizer):\n",
    "    #define model\n",
    "    model = Sequential() # keras sequential model\n",
    "    model.add(Dense(12, input_dim=8, activation='relu')) # input layer contains 8 Independent Variables\n",
    "    model.add(Dense(1, activation='sigmoid')) # binary classification use sigmoid\n",
    "    # more info on which activation function to use at machinelearningmastery.com/choose-an-activation-function-for-deep-learning/\n",
    "    \n",
    "    # compile model\n",
    "    # use binary_crossentropy as loss function for binary classification problems\n",
    "    # on the other hand use categorical_crossentropy as loss function for multi-classification problems\n",
    "    model.compile(loss='binary_crossentropy', optimizer=optimizer, metrics=['accuracy'])\n",
    "    return model"
   ]
  },
  {
   "cell_type": "code",
   "execution_count": 10,
   "id": "5950314d",
   "metadata": {},
   "outputs": [],
   "source": [
    "# create model using updated function and best param values for epochs and batch_size as found above\n",
    "model = KerasClassifier(build_fn=create_model, epochs=50, batch_size=10)"
   ]
  },
  {
   "cell_type": "code",
   "execution_count": 11,
   "id": "51688ad1",
   "metadata": {
    "scrolled": false
   },
   "outputs": [],
   "source": [
    "# define grid search parameters\n",
    "optimizer = ['adam', 'SGD']\n",
    "parameter_grid = dict(optimizer=optimizer)"
   ]
  },
  {
   "cell_type": "code",
   "execution_count": 12,
   "id": "db7def05",
   "metadata": {},
   "outputs": [
    {
     "name": "stdout",
     "output_type": "stream",
     "text": [
      "Epoch 1/50\n",
      "77/77 [==============================] - 0s 622us/step - loss: 8.4233 - accuracy: 0.4036\n",
      "Epoch 2/50\n",
      "77/77 [==============================] - 0s 596us/step - loss: 4.3028 - accuracy: 0.4310\n",
      "Epoch 3/50\n",
      "77/77 [==============================] - 0s 648us/step - loss: 3.6568 - accuracy: 0.4414\n",
      "Epoch 4/50\n",
      "77/77 [==============================] - 0s 570us/step - loss: 3.1516 - accuracy: 0.4284\n",
      "Epoch 5/50\n",
      "77/77 [==============================] - 0s 609us/step - loss: 2.6642 - accuracy: 0.4128\n",
      "Epoch 6/50\n",
      "77/77 [==============================] - 0s 790us/step - loss: 2.2295 - accuracy: 0.4375\n",
      "Epoch 7/50\n",
      "77/77 [==============================] - 0s 738us/step - loss: 1.7797 - accuracy: 0.4102\n",
      "Epoch 8/50\n",
      "77/77 [==============================] - 0s 712us/step - loss: 1.4219 - accuracy: 0.4583\n",
      "Epoch 9/50\n",
      "77/77 [==============================] - 0s 674us/step - loss: 1.0831 - accuracy: 0.4779\n",
      "Epoch 10/50\n",
      "77/77 [==============================] - 0s 686us/step - loss: 0.9071 - accuracy: 0.5456\n",
      "Epoch 11/50\n",
      "77/77 [==============================] - 0s 751us/step - loss: 0.7669 - accuracy: 0.6159\n",
      "Epoch 12/50\n",
      "77/77 [==============================] - ETA: 0s - loss: 0.6955 - accuracy: 0.63 - 0s 691us/step - loss: 0.6964 - accuracy: 0.6315\n",
      "Epoch 13/50\n",
      "77/77 [==============================] - 0s 678us/step - loss: 0.6800 - accuracy: 0.6536\n",
      "Epoch 14/50\n",
      "77/77 [==============================] - 0s 604us/step - loss: 0.6731 - accuracy: 0.6471\n",
      "Epoch 15/50\n",
      "77/77 [==============================] - 0s 609us/step - loss: 0.6575 - accuracy: 0.6654\n",
      "Epoch 16/50\n",
      "77/77 [==============================] - 0s 610us/step - loss: 0.6554 - accuracy: 0.6641\n",
      "Epoch 17/50\n",
      "77/77 [==============================] - 0s 578us/step - loss: 0.6446 - accuracy: 0.6823\n",
      "Epoch 18/50\n",
      "77/77 [==============================] - 0s 740us/step - loss: 0.6440 - accuracy: 0.6823\n",
      "Epoch 19/50\n",
      "77/77 [==============================] - 0s 638us/step - loss: 0.6476 - accuracy: 0.6680\n",
      "Epoch 20/50\n",
      "77/77 [==============================] - 0s 623us/step - loss: 0.6304 - accuracy: 0.6719\n",
      "Epoch 21/50\n",
      "77/77 [==============================] - 0s 636us/step - loss: 0.6639 - accuracy: 0.6589\n",
      "Epoch 22/50\n",
      "77/77 [==============================] - 0s 629us/step - loss: 0.6226 - accuracy: 0.6810\n",
      "Epoch 23/50\n",
      "77/77 [==============================] - 0s 570us/step - loss: 0.6241 - accuracy: 0.6784\n",
      "Epoch 24/50\n",
      "77/77 [==============================] - 0s 571us/step - loss: 0.6072 - accuracy: 0.6862\n",
      "Epoch 25/50\n",
      "77/77 [==============================] - 0s 559us/step - loss: 0.6209 - accuracy: 0.6901\n",
      "Epoch 26/50\n",
      "77/77 [==============================] - 0s 629us/step - loss: 0.6042 - accuracy: 0.6927\n",
      "Epoch 27/50\n",
      "77/77 [==============================] - 0s 604us/step - loss: 0.6136 - accuracy: 0.6901\n",
      "Epoch 28/50\n",
      "77/77 [==============================] - 0s 642us/step - loss: 0.6009 - accuracy: 0.7005\n",
      "Epoch 29/50\n",
      "77/77 [==============================] - 0s 639us/step - loss: 0.6276 - accuracy: 0.6745\n",
      "Epoch 30/50\n",
      "77/77 [==============================] - 0s 580us/step - loss: 0.6263 - accuracy: 0.6680\n",
      "Epoch 31/50\n",
      "77/77 [==============================] - 0s 605us/step - loss: 0.6057 - accuracy: 0.6823\n",
      "Epoch 32/50\n",
      "77/77 [==============================] - 0s 611us/step - loss: 0.5982 - accuracy: 0.7031\n",
      "Epoch 33/50\n",
      "77/77 [==============================] - 0s 582us/step - loss: 0.5961 - accuracy: 0.6901\n",
      "Epoch 34/50\n",
      "77/77 [==============================] - 0s 610us/step - loss: 0.6078 - accuracy: 0.6888\n",
      "Epoch 35/50\n",
      "77/77 [==============================] - 0s 610us/step - loss: 0.6035 - accuracy: 0.7135\n",
      "Epoch 36/50\n",
      "77/77 [==============================] - 0s 614us/step - loss: 0.5873 - accuracy: 0.6888\n",
      "Epoch 37/50\n",
      "77/77 [==============================] - 0s 601us/step - loss: 0.5836 - accuracy: 0.6992\n",
      "Epoch 38/50\n",
      "77/77 [==============================] - 0s 636us/step - loss: 0.5817 - accuracy: 0.7253\n",
      "Epoch 39/50\n",
      "77/77 [==============================] - 0s 682us/step - loss: 0.5980 - accuracy: 0.6914\n",
      "Epoch 40/50\n",
      "77/77 [==============================] - 0s 638us/step - loss: 0.5835 - accuracy: 0.7148\n",
      "Epoch 41/50\n",
      "77/77 [==============================] - 0s 623us/step - loss: 0.5854 - accuracy: 0.7057\n",
      "Epoch 42/50\n",
      "77/77 [==============================] - 0s 629us/step - loss: 0.5853 - accuracy: 0.7005\n",
      "Epoch 43/50\n",
      "77/77 [==============================] - 0s 624us/step - loss: 0.5704 - accuracy: 0.7096\n",
      "Epoch 44/50\n",
      "77/77 [==============================] - 0s 619us/step - loss: 0.5783 - accuracy: 0.7174\n",
      "Epoch 45/50\n",
      "77/77 [==============================] - 0s 611us/step - loss: 0.5748 - accuracy: 0.7161\n",
      "Epoch 46/50\n",
      "77/77 [==============================] - 0s 586us/step - loss: 0.5812 - accuracy: 0.6992\n",
      "Epoch 47/50\n",
      "77/77 [==============================] - 0s 628us/step - loss: 0.6644 - accuracy: 0.6875\n",
      "Epoch 48/50\n",
      "77/77 [==============================] - 0s 616us/step - loss: 0.5850 - accuracy: 0.7227\n",
      "Epoch 49/50\n",
      "77/77 [==============================] - 0s 604us/step - loss: 0.5638 - accuracy: 0.7005\n",
      "Epoch 50/50\n",
      "77/77 [==============================] - 0s 611us/step - loss: 0.5875 - accuracy: 0.7214\n"
     ]
    }
   ],
   "source": [
    "# n_jobs = -1 means use all resources / processors avaiable in CPU\n",
    "grid = GridSearchCV(estimator=model, param_grid=parameter_grid, n_jobs=-1)\n",
    "grid_result = grid.fit(X, y)"
   ]
  },
  {
   "cell_type": "code",
   "execution_count": 13,
   "id": "8ee2171f",
   "metadata": {},
   "outputs": [
    {
     "name": "stdout",
     "output_type": "stream",
     "text": [
      "Best: 0.699279 using {'optimizer': 'adam'}\n"
     ]
    }
   ],
   "source": [
    "# summarize accuracy results for best set of parameter values\n",
    "print('Best: %f using %s' % (grid_result.best_score_, grid_result.best_params_))"
   ]
  }
 ],
 "metadata": {
  "kernelspec": {
   "display_name": "Python 3",
   "language": "python",
   "name": "python3"
  },
  "language_info": {
   "codemirror_mode": {
    "name": "ipython",
    "version": 3
   },
   "file_extension": ".py",
   "mimetype": "text/x-python",
   "name": "python",
   "nbconvert_exporter": "python",
   "pygments_lexer": "ipython3",
   "version": "3.8.8"
  }
 },
 "nbformat": 4,
 "nbformat_minor": 5
}
