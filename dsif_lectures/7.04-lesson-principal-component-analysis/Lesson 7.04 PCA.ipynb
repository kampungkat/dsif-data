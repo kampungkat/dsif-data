{
 "cells": [
  {
   "cell_type": "markdown",
   "id": "8d3343d2",
   "metadata": {},
   "source": [
    "# Lesson 7.04 PCA\n",
    "\n",
    "## Overview\n",
    "- `PCA` stands for Principal Component Analysis\n",
    "- It is an unsupervised ML algorithm that discovers the relationships between variables and reduces variables down to uncorrelated and synthetic representations called `principal components`\n",
    "- In other words, `principal components` are synthetic representations of a data set\n",
    "\n",
    "\n",
    "## Setting up for `PCA`\n",
    "\n",
    "### Import Libraries"
   ]
  },
  {
   "cell_type": "code",
   "execution_count": 1,
   "id": "670e00e5",
   "metadata": {},
   "outputs": [],
   "source": [
    "import numpy as np\n",
    "import pandas as pd\n",
    "\n",
    "import matplotlib.pyplot as plt\n",
    "import pylab as plt\n",
    "import seaborn as sb\n",
    "from IPython.display import Image\n",
    "from IPython.core.display import HTML \n",
    "from pylab import rcParams\n",
    "\n",
    "from sklearn import datasets"
   ]
  },
  {
   "cell_type": "code",
   "execution_count": 2,
   "id": "5097e823",
   "metadata": {},
   "outputs": [],
   "source": [
    "from sklearn.decomposition import PCA"
   ]
  },
  {
   "cell_type": "code",
   "execution_count": 3,
   "id": "107d1d4c",
   "metadata": {},
   "outputs": [],
   "source": [
    "%matplotlib inline\n",
    "rcParams['figure.figsize'] = 5, 4\n",
    "sb.set_style('whitegrid')"
   ]
  },
  {
   "cell_type": "markdown",
   "id": "fcdfe26d",
   "metadata": {},
   "source": [
    "### Load iris dataset"
   ]
  },
  {
   "cell_type": "code",
   "execution_count": 4,
   "id": "298a5ca1",
   "metadata": {},
   "outputs": [
    {
     "data": {
      "text/plain": [
       "array([[5.1, 3.5, 1.4, 0.2],\n",
       "       [4.9, 3. , 1.4, 0.2],\n",
       "       [4.7, 3.2, 1.3, 0.2],\n",
       "       [4.6, 3.1, 1.5, 0.2],\n",
       "       [5. , 3.6, 1.4, 0.2],\n",
       "       [5.4, 3.9, 1.7, 0.4],\n",
       "       [4.6, 3.4, 1.4, 0.3],\n",
       "       [5. , 3.4, 1.5, 0.2],\n",
       "       [4.4, 2.9, 1.4, 0.2],\n",
       "       [4.9, 3.1, 1.5, 0.1]])"
      ]
     },
     "execution_count": 4,
     "metadata": {},
     "output_type": "execute_result"
    }
   ],
   "source": [
    "iris = datasets.load_iris()\n",
    "X = iris.data\n",
    "variable_names = iris.feature_names\n",
    "\n",
    "# display first 10 rows of X data\n",
    "X[0:10,]"
   ]
  },
  {
   "cell_type": "markdown",
   "id": "26e4388f",
   "metadata": {},
   "source": [
    "### Build `PCA` model"
   ]
  },
  {
   "cell_type": "code",
   "execution_count": 5,
   "id": "fe4b7b9d",
   "metadata": {},
   "outputs": [],
   "source": [
    "# instantiate a PCA object\n",
    "pca = PCA()\n",
    "\n",
    "# Principal Components will be stored in a new object called iris_pca\n",
    "iris_pca = pca.fit_transform(X)"
   ]
  },
  {
   "cell_type": "markdown",
   "id": "143f873d",
   "metadata": {},
   "source": [
    "### Interpret Results\n",
    "\n",
    "- The explained variance ratio tells us how much information is compressed into the X features a.k.a components\n",
    "- When deciding how many components to keep, look at the % of cumulative variance\n",
    "    - ensure at least 70% of the original data is retained i.e. cumulative variance >= 70%\n",
    "- We do not want 100% cumulative variance since some of the components are tied up with noise, info redundance, or outliers\n",
    "- Our goal with PCA is to remove all these \"junk\" mentioned above and retain only fundamental or principal components that matter"
   ]
  },
  {
   "cell_type": "code",
   "execution_count": 6,
   "id": "738a71d2",
   "metadata": {
    "scrolled": true
   },
   "outputs": [
    {
     "data": {
      "text/plain": [
       "1.0"
      ]
     },
     "execution_count": 6,
     "metadata": {},
     "output_type": "execute_result"
    }
   ],
   "source": [
    "# explained variance of all components in data set will add up to 1\n",
    "# in other words, 100% of the variance in the data set is captured by these 4 components\n",
    "pca.explained_variance_ratio_.sum()"
   ]
  },
  {
   "cell_type": "code",
   "execution_count": 7,
   "id": "a20896b7",
   "metadata": {
    "scrolled": true
   },
   "outputs": [
    {
     "data": {
      "text/plain": [
       "array([0.92461872, 0.05306648, 0.01710261, 0.00521218])"
      ]
     },
     "execution_count": 7,
     "metadata": {},
     "output_type": "execute_result"
    }
   ],
   "source": [
    "# useful for assessing how much variance is explained by the components that were found\n",
    "pca.explained_variance_ratio_"
   ]
  },
  {
   "cell_type": "markdown",
   "id": "d27cdc73",
   "metadata": {},
   "source": [
    "- First component explained 92% of the data set's variance which means it holds 92% of the information in the data in one principal component\n",
    "- By taking the first 2 components (92% + 5%), we only lose 3% of the data set's info which could be the \"junk\" info that we want to remove in our data set\n",
    "- In other words, the first 2 components contain 97% of the original info in the data set and we can be satistied with a decision to keep just these 2 components"
   ]
  },
  {
   "cell_type": "markdown",
   "id": "689e1956",
   "metadata": {},
   "source": [
    "### Visualise Results"
   ]
  },
  {
   "cell_type": "code",
   "execution_count": 8,
   "id": "350e80c5",
   "metadata": {},
   "outputs": [
    {
     "data": {
      "text/html": [
       "<div>\n",
       "<style scoped>\n",
       "    .dataframe tbody tr th:only-of-type {\n",
       "        vertical-align: middle;\n",
       "    }\n",
       "\n",
       "    .dataframe tbody tr th {\n",
       "        vertical-align: top;\n",
       "    }\n",
       "\n",
       "    .dataframe thead th {\n",
       "        text-align: right;\n",
       "    }\n",
       "</style>\n",
       "<table border=\"1\" class=\"dataframe\">\n",
       "  <thead>\n",
       "    <tr style=\"text-align: right;\">\n",
       "      <th></th>\n",
       "      <th>sepal length (cm)</th>\n",
       "      <th>sepal width (cm)</th>\n",
       "      <th>petal length (cm)</th>\n",
       "      <th>petal width (cm)</th>\n",
       "    </tr>\n",
       "  </thead>\n",
       "  <tbody>\n",
       "    <tr>\n",
       "      <th>0</th>\n",
       "      <td>0.361387</td>\n",
       "      <td>-0.084523</td>\n",
       "      <td>0.856671</td>\n",
       "      <td>0.358289</td>\n",
       "    </tr>\n",
       "    <tr>\n",
       "      <th>1</th>\n",
       "      <td>0.656589</td>\n",
       "      <td>0.730161</td>\n",
       "      <td>-0.173373</td>\n",
       "      <td>-0.075481</td>\n",
       "    </tr>\n",
       "    <tr>\n",
       "      <th>2</th>\n",
       "      <td>-0.582030</td>\n",
       "      <td>0.597911</td>\n",
       "      <td>0.076236</td>\n",
       "      <td>0.545831</td>\n",
       "    </tr>\n",
       "    <tr>\n",
       "      <th>3</th>\n",
       "      <td>-0.315487</td>\n",
       "      <td>0.319723</td>\n",
       "      <td>0.479839</td>\n",
       "      <td>-0.753657</td>\n",
       "    </tr>\n",
       "  </tbody>\n",
       "</table>\n",
       "</div>"
      ],
      "text/plain": [
       "   sepal length (cm)  sepal width (cm)  petal length (cm)  petal width (cm)\n",
       "0           0.361387         -0.084523           0.856671          0.358289\n",
       "1           0.656589          0.730161          -0.173373         -0.075481\n",
       "2          -0.582030          0.597911           0.076236          0.545831\n",
       "3          -0.315487          0.319723           0.479839         -0.753657"
      ]
     },
     "execution_count": 8,
     "metadata": {},
     "output_type": "execute_result"
    }
   ],
   "source": [
    "# load principal components (rows) and variables (columns) into a data frame\n",
    "# Each cell in the DataFrame represents the influence / contribution of a variable to a given PC\n",
    "\n",
    "# The highest contributing variables for PC1 comprises of Petal Length\n",
    "# The highest contributing variables for PC2 comprises of sepal width\n",
    "# The highest contributing variables for PC3 comprises of sepal length \n",
    "# The highest contributing variables for PC4 comprises of petal width\n",
    "comps = pd.DataFrame(pca.components_, columns=variable_names)\n",
    "comps"
   ]
  },
  {
   "cell_type": "code",
   "execution_count": 9,
   "id": "3335b1d1",
   "metadata": {},
   "outputs": [
    {
     "data": {
      "text/plain": [
       "<AxesSubplot:>"
      ]
     },
     "execution_count": 9,
     "metadata": {},
     "output_type": "execute_result"
    },
    {
     "data": {
      "image/png": "[encoded data removed]",
      "text/plain": [
       "<Figure size 360x288 with 2 Axes>"
      ]
     },
     "metadata": {},
     "output_type": "display_data"
    }
   ],
   "source": [
    "# assess how data set's variables influence each principal components\n",
    "sb.heatmap(comps, cmap=\"Blues\", annot=True)"
   ]
  },
  {
   "cell_type": "markdown",
   "id": "974b1a07",
   "metadata": {},
   "source": [
    "- Components 1 (index=0) and 2 (index=1) contained 97% of the data set's total information\n",
    "- Based on the above, we decided to keep only these 2 components\n",
    "- Results from matrix above, shows that:\n",
    "    - **Principal Component 1** is strongly influenced by petal length, moderately influenced by sepal length and petal width, and slightly influenced by sepal width\n",
    "    - **Principal Component 2** is strongly influenced by sepal length and sepal width, and slightly influenced by petal length and petal width\n",
    "    \n",
    "    \n",
    "#### FAQ: How do you use components once you have isolated them?\n",
    "- Use these components as input variables for other ML models. Read more at this [link](https://towardsdatascience.com/principal-component-analysis-with-python-an-example-for-beginners-by-a-beginner-ac052eff45c)\n",
    "- For example, you could use these 2 components as inputs for a classifier in order to predict flower species labels for unseen data\n",
    "- Recall that ideally we want to build the most accurate models possible with the fewest possible fundamental features"
   ]
  }
 ],
 "metadata": {
  "kernelspec": {
   "display_name": "Python 3",
   "language": "python",
   "name": "python3"
  },
  "language_info": {
   "codemirror_mode": {
    "name": "ipython",
    "version": 3
   },
   "file_extension": ".py",
   "mimetype": "text/x-python",
   "name": "python",
   "nbconvert_exporter": "python",
   "pygments_lexer": "ipython3",
   "version": "3.8.8"
  }
 },
 "nbformat": 4,
 "nbformat_minor": 5
}
